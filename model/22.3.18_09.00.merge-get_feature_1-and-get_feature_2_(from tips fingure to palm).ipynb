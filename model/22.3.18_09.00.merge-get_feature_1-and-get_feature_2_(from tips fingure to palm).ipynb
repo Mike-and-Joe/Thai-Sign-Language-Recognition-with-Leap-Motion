{
 "cells": [
  {
   "cell_type": "code",
   "execution_count": 226,
   "metadata": {},
   "outputs": [],
   "source": [
    "from keras.preprocessing import sequence\n",
    "from keras.models import Sequential, Model, load_model\n",
    "from keras.layers import GRU, Dense, Dropout, Input, concatenate\n",
    "from keras.utils import np_utils\n",
    "from keras.optimizers import Adam\n",
    "from copy import deepcopy\n",
    "import json\n",
    "import pandas as pd\n",
    "import pickle\n",
    "import math\n",
    "import datetime"
   ]
  },
  {
   "cell_type": "code",
   "execution_count": 242,
   "metadata": {
    "collapsed": true
   },
   "outputs": [],
   "source": [
    "# variable\n",
    "words = [\n",
    "    'come quickly', 'emergency', 'father', 'fever', 'good luck',\n",
    "    'headache', 'hello', 'help', 'hi', 'hungry',\n",
    "    'like', 'mother', 'mother_father', 'mother_mother', 'not ok',\n",
    "    'quickly', 'sorry', 'tomorrow', 'yogurt'\n",
    "]\n",
    "data_per_word = 27\n",
    "data_length = 2 * data_per_word * len(words)\n",
    "timesteps = 50\n",
    "dimensions = 34"
   ]
  },
  {
   "cell_type": "code",
   "execution_count": 243,
   "metadata": {
    "collapsed": true
   },
   "outputs": [],
   "source": [
    "# def get_feature(frame):\n",
    "#     finger_name = ['thumb', 'index', 'middle', 'ring', 'pinky']\n",
    "# #     coordinate = ['x', 'y', 'z']\n",
    "#     fingertip_pos = np.zeros([2, 5, 3]) # [cooridinates x fingers]\n",
    "#     feature = np.zeros([22])\n",
    "#     hand_pos = np.zeros([12])\n",
    "# #     finger_tip = {}\n",
    "#     if 'right' in frame['hands']:\n",
    "#         hand_pos[0:6] = np.array([frame['hands']['right']['hand_palm_position'][0],\n",
    "#                                   frame['hands']['right']['hand_palm_position'][1],\n",
    "#                                   frame['hands']['right']['hand_palm_position'][2],\n",
    "#                                   frame['hands']['right']['yaw'], \n",
    "#                                   frame['hands']['right']['roll'], \n",
    "#                                   frame['hands']['right']['pitch']])\n",
    "#         for idx, finger in enumerate(finger_name):\n",
    "# #             fingertip_pos[2 + idx, :] = np.array(frame['hands']['right']['fingers'][finger]['bones']['distal']['next_joint'])\n",
    "#             fingertip_pos[0, idx, :] = np.array(frame['hands']['right']['fingers'][finger]['bones']['distal']['next_joint'])\n",
    "#     if 'left' in frame['hands']:\n",
    "#         hand_pos[6:12] = np.array([frame['hands']['left']['hand_palm_position'][0],\n",
    "#                                    frame['hands']['left']['hand_palm_position'][1],\n",
    "#                                    frame['hands']['left']['hand_palm_position'][2],\n",
    "#                                    frame['hands']['left']['yaw'], \n",
    "#                                    frame['hands']['left']['roll'], \n",
    "#                                    frame['hands']['left']['pitch']])\n",
    "# #         fingertip_pos[8, :] = np.array(frame['hands']['left']['hand_palm_position'])\n",
    "#         for idx, finger in enumerate(finger_name):\n",
    "# #             fingertip_pos[4 + 5 + idx, :] = np.array(frame['hands']['left']['fingers'][finger]['bones']['distal']['next_joint'])\n",
    "#             fingertip_pos[1, idx, :] = np.array(frame['hands']['left']['fingers'][finger]['bones']['distal']['next_joint'])\n",
    "#     fingertip_pos_shift = np.roll(fingertip_pos, 1, axis=1)\n",
    "#     feature[0:10] = np.linalg.norm(fingertip_pos - fingertip_pos_shift, axis=2).reshape(10)\n",
    "#     feature[10:22] = hand_pos\n",
    "\n",
    "#     return feature"
   ]
  },
  {
   "cell_type": "code",
   "execution_count": 231,
   "metadata": {
    "collapsed": true
   },
   "outputs": [],
   "source": [
    "def get_euclid_dis_tips_and_palm_feature(frame):\n",
    "    finger_name = ['thumb', 'index', 'middle', 'ring', 'pinky']\n",
    "    hand_name = ['left', 'right']\n",
    "    \n",
    "    fingertip_pos = np.zeros([2, 5, 3])\n",
    "    \n",
    "    hand_palm_pos = np.zeros([2, 3])\n",
    "    hand_palm_rpy = np.zeros([2, 3])\n",
    "    dist_fingertip_palm = np.zeros([10])\n",
    "    dist_btw_fingertip = np.zeros([10])\n",
    "    \n",
    "    feature = np.zeros([2*3 + 2*3 + 10 + 10])\n",
    "    \n",
    "    for hand_idx, hand in enumerate(hand_name):\n",
    "        if not hand in frame['hands']:\n",
    "            continue\n",
    "        hand_palm_pos[hand_idx] = np.array(frame['hands'][hand]['hand_palm_position'])\n",
    "        hand_palm_rpy[hand_idx] = np.array([ frame['hands'][hand]['roll'],\n",
    "                                                    frame['hands'][hand]['pitch'],\n",
    "                                                    frame['hands'][hand]['yaw']])\n",
    "        for finger_idx, finger in enumerate(finger_name):\n",
    "            fingertip_pos[hand_idx, finger_idx] = (\n",
    "                np.array(frame['hands'][hand]['fingers'][finger]['bones']['distal']['next_joint'])\n",
    "            )\n",
    "            \n",
    "            dist_fingertip_palm[hand_idx*5 + finger_idx] = np.linalg.norm(\n",
    "                fingertip_pos[hand_idx, finger_idx] - hand_palm_pos[hand_idx]\n",
    "            )\n",
    "            \n",
    "    fingertip_pos_shift = np.roll(fingertip_pos, 1, axis=1)\n",
    "    dist_btw_fingertip = np.linalg.norm(fingertip_pos - fingertip_pos_shift, axis=2)\n",
    "        \n",
    "    feature[0:6] = hand_palm_pos.reshape(6)\n",
    "    feature[6:12] = hand_palm_rpy.reshape(6)\n",
    "    feature[12:22] = dist_fingertip_palm.T\n",
    "#     feature[22:32] = dist_btw_fingertip.reshape(10)\n",
    "    \n",
    "#     print(feature[12+5:12+6])\n",
    "#     print(frame['hands']['right']['fingers']['thumb']['bones']['distal']['next_joint'])\n",
    "#     print(hand_palm_pos[1])\n",
    "    return feature\n",
    "    "
   ]
  },
  {
   "cell_type": "code",
   "execution_count": 244,
   "metadata": {
    "collapsed": true
   },
   "outputs": [],
   "source": [
    "def get_feature(frame):\n",
    "    finger_name = ['thumb', 'index', 'middle', 'ring', 'pinky']\n",
    "    hand_name = ['left', 'right']\n",
    "    \n",
    "    fingertip_pos = np.zeros([2, 5, 3])\n",
    "    \n",
    "    hand_palm_pos = np.zeros([2, 3])\n",
    "    hand_palm_rpy = np.zeros([2, 3])\n",
    "    hand_palm_unit_vector = np.zeros([2, 3])\n",
    "    arm_direction = np.zeros([2, 3])\n",
    "    \n",
    "    feature = np.zeros([34])\n",
    "    \n",
    "    for hand_idx, hand in enumerate(hand_name):\n",
    "        if not hand in frame['hands']:\n",
    "            continue\n",
    "        hand_palm_pos[hand_idx] = np.array(frame['hands'][hand]['hand_palm_position'])\n",
    "        hand_palm_rpy[hand_idx] = np.array([ frame['hands'][hand]['roll'],\n",
    "                                                    frame['hands'][hand]['pitch'],\n",
    "                                                    frame['hands'][hand]['yaw']])\n",
    "        hand_palm_unit_vector[hand_idx] = np.cross(\n",
    "            frame['hands'][hand]['fingers']['index']['bones']['proximal']['direction'],\n",
    "            frame['hands'][hand]['fingers']['middle']['bones']['proximal']['direction']\n",
    "        )\n",
    "        arm_direction[hand_idx] = np.array(frame['hands'][hand]['arm']['direction'])\n",
    "        for finger_idx, finger in enumerate(finger_name):\n",
    "            fingertip_pos[hand_idx, finger_idx] = (\n",
    "                np.array(frame['hands'][hand]['fingers'][finger]['bones']['distal']['next_joint'])\n",
    "            )\n",
    "            \n",
    "    fingertip_pos_shift = np.roll(fingertip_pos, 1, axis=1)\n",
    "    dist_btw_fingertip = np.linalg.norm(fingertip_pos - fingertip_pos_shift, axis=2)\n",
    "        \n",
    "    feature[0:6] = hand_palm_pos.reshape(6)\n",
    "    feature[6:12] = hand_palm_rpy.reshape(6)\n",
    "    feature[12:22] = dist_btw_fingertip.reshape(10)\n",
    "    feature[22:28] = hand_palm_unit_vector.reshape(6)\n",
    "    feature[28:34] = arm_direction.reshape(6)\n",
    "    \n",
    "    return feature\n",
    "    "
   ]
  },
  {
   "cell_type": "code",
   "execution_count": null,
   "metadata": {
    "collapsed": true
   },
   "outputs": [],
   "source": []
  },
  {
   "cell_type": "code",
   "execution_count": 235,
   "metadata": {
    "collapsed": true
   },
   "outputs": [],
   "source": [
    "def get_timesteps(json_data, pick_frame_every_no): \n",
    "    timesteps = np.zeros([0, dimensions])\n",
    "    for frame_no, frame in enumerate(json_data):\n",
    "        if frame_no % pick_frame_every_no != 0 or not frame['hands']:\n",
    "            continue\n",
    "        feature = get_feature(frame)\n",
    "#         feature = get_euclid_dis_tips_and_palm_feature(frame)\n",
    "        timesteps = np.vstack((timesteps, feature))\n",
    "    return timesteps"
   ]
  },
  {
   "cell_type": "code",
   "execution_count": 6,
   "metadata": {
    "collapsed": true
   },
   "outputs": [],
   "source": [
    "def get_fake_speedup_timesteps_1(percent, json_data, pick_frame_every_no):\n",
    "    return get_timesteps(json_data, pick_frame_every_no*(100+percent)//100)"
   ]
  },
  {
   "cell_type": "code",
   "execution_count": 7,
   "metadata": {
    "collapsed": true
   },
   "outputs": [],
   "source": [
    "def get_fake_speedup_timesteps_2(percent, old_timesteps, old_pick_frame_every_no):\n",
    "    timesteps = np.zeros([0, dimensions])\n",
    "    pick_frame_every_no = old_pick_frame_every_no*(100+percent)//100\n",
    "    timesteps_length = (old_timesteps.shape[0] * old_pick_frame_every_no) // pick_frame_every_no\n",
    "    \n",
    "    for new_index in range(1, timesteps_length):\n",
    "        start_old_index = (new_index * pick_frame_every_no) // old_pick_frame_every_no\n",
    "        x1 = old_pick_frame_every_no*start_old_index\n",
    "        x2 = old_pick_frame_every_no*(start_old_index + 1)\n",
    "        h1, h2 = old_timesteps[start_old_index : start_old_index + 2]\n",
    "        _x = (new_index * pick_frame_every_no)\n",
    "        \n",
    "        feature = ((_x-x1)/(x2-x1))*(h2-h1) + h1\n",
    "        \n",
    "        timesteps = np.vstack((timesteps, feature))\n",
    "        \n",
    "    return timesteps\n",
    "        \n",
    "    "
   ]
  },
  {
   "cell_type": "code",
   "execution_count": 236,
   "metadata": {
    "collapsed": true
   },
   "outputs": [],
   "source": [
    "def get_augmentation(percent, old_timesteps, old_pick_frame_every_no):\n",
    "    # percent positive means shrink\n",
    "    timesteps = np.zeros([0, dimensions])\n",
    "    pick_frame_every_no = round(old_pick_frame_every_no*(100+percent)/100)\n",
    "    timesteps_length = (old_timesteps.shape[0] * old_pick_frame_every_no) // pick_frame_every_no\n",
    "    \n",
    "    for new_index in range(1, timesteps_length):\n",
    "        start_old_index = (new_index * pick_frame_every_no) // old_pick_frame_every_no\n",
    "        if (start_old_index + 2 > len(old_timesteps)) : break\n",
    "        x1 = old_pick_frame_every_no*start_old_index\n",
    "        x2 = old_pick_frame_every_no*(start_old_index + 1)\n",
    "        h1, h2 = old_timesteps[start_old_index : start_old_index + 2]\n",
    "        \n",
    "        _x = (new_index * pick_frame_every_no)\n",
    "        \n",
    "        feature = ((_x-x1)/(x2-x1))*(h2-h1) + h1\n",
    "        \n",
    "        timesteps = np.vstack((timesteps, feature))\n",
    "        \n",
    "    return timesteps"
   ]
  },
  {
   "cell_type": "code",
   "execution_count": 237,
   "metadata": {
    "collapsed": true
   },
   "outputs": [],
   "source": [
    "max_frame = 0\n",
    "for word_no, word in enumerate(words):\n",
    "    for data_no in range(data_per_word):\n",
    "        try:\n",
    "            with open(\"./record/{}/json_{}.txt\".format(word, data_no)) as json_data:\n",
    "                json_data = json.load(json_data)\n",
    "        except Exception as s:\n",
    "            print ('error log:', s)\n",
    "        \n",
    "        if max_frame < len(json_data):\n",
    "            max_frame = len(json_data)"
   ]
  },
  {
   "cell_type": "code",
   "execution_count": 253,
   "metadata": {},
   "outputs": [
    {
     "name": "stdout",
     "output_type": "stream",
     "text": [
      "12\n",
      "58\n"
     ]
    }
   ],
   "source": [
    "speedup = 10\n",
    "pick_frame_every_no = int((max_frame * (speedup < 0 and (100-speedup)/100 or 1)) // 50 + 1)\n",
    "print(pick_frame_every_no)\n",
    "\n",
    "\n",
    "speedup_max = 1.15\n",
    "timesteps = 50\n",
    "augment_timesteps = math.ceil(timesteps * speedup_max) # add speedup\n",
    "print(augment_timesteps)\n",
    "timesteps = augment_timesteps"
   ]
  },
  {
   "cell_type": "code",
   "execution_count": 254,
   "metadata": {},
   "outputs": [],
   "source": [
    "x = np.zeros([0, timesteps, dimensions])\n",
    "y = np.zeros([0])\n",
    "z = np.zeros([0, timesteps, dimensions])\n",
    "for word_no, word in enumerate(words):\n",
    "    for data_no in range(data_per_word):\n",
    "        try:\n",
    "            with open(\"./record/{}/json_{}.txt\".format(word, data_no)) as json_data:\n",
    "                json_data = json.load(json_data)\n",
    "        except Exception as s:\n",
    "            print ('error log:', s)\n",
    "        \n",
    "        _timesteps = get_timesteps(json_data, pick_frame_every_no)\n",
    "        __timesteps = np.vstack((_timesteps, np.zeros([timesteps - _timesteps.shape[0], dimensions])))\n",
    "        x = np.vstack((x, [__timesteps]))\n",
    "        y = np.append(y, word_no)\n",
    "        \n",
    "        _timesteps = get_augmentation(+10, _timesteps, pick_frame_every_no)\n",
    "        __timesteps = np.vstack((_timesteps, np.zeros([timesteps - _timesteps.shape[0], dimensions])))\n",
    "        x = np.vstack((x, [__timesteps]))\n",
    "        z = np.vstack((z, [__timesteps]))\n",
    "        y = np.append(y, word_no)"
   ]
  },
  {
   "cell_type": "code",
   "execution_count": 120,
   "metadata": {
    "collapsed": true
   },
   "outputs": [],
   "source": [
    "x1 = x"
   ]
  },
  {
   "cell_type": "code",
   "execution_count": 128,
   "metadata": {
    "collapsed": true
   },
   "outputs": [],
   "source": [
    "x2 = x"
   ]
  },
  {
   "cell_type": "code",
   "execution_count": 141,
   "metadata": {},
   "outputs": [
    {
     "data": {
      "text/plain": [
       "1441.7211756242707"
      ]
     },
     "execution_count": 141,
     "metadata": {},
     "output_type": "execute_result"
    }
   ],
   "source": [
    "np.linalg.norm(x2[0])"
   ]
  },
  {
   "cell_type": "code",
   "execution_count": 142,
   "metadata": {},
   "outputs": [
    {
     "data": {
      "text/plain": [
       "1441.7211756242707"
      ]
     },
     "execution_count": 142,
     "metadata": {},
     "output_type": "execute_result"
    }
   ],
   "source": [
    "np.linalg.norm(x1[0])"
   ]
  },
  {
   "cell_type": "code",
   "execution_count": 118,
   "metadata": {},
   "outputs": [
    {
     "data": {
      "text/plain": [
       "0.0"
      ]
     },
     "execution_count": 118,
     "metadata": {},
     "output_type": "execute_result"
    }
   ],
   "source": [
    "np.linalg.norm(z1-z2)"
   ]
  },
  {
   "cell_type": "code",
   "execution_count": 228,
   "metadata": {},
   "outputs": [],
   "source": [
    "with open('./extracted_feature/original_080418GridSearch.pkl', 'rb') as handle:\n",
    "    [x_original, y_original, x_augment] = pickle.load(handle)"
   ]
  },
  {
   "cell_type": "code",
   "execution_count": 261,
   "metadata": {},
   "outputs": [
    {
     "data": {
      "text/plain": [
       "6123.9303774477239"
      ]
     },
     "execution_count": 261,
     "metadata": {},
     "output_type": "execute_result"
    }
   ],
   "source": [
    "np.linalg.norm(x_augment[0.90] - z)"
   ]
  },
  {
   "cell_type": "code",
   "execution_count": 264,
   "metadata": {},
   "outputs": [
    {
     "data": {
      "text/plain": [
       "array([  0.00000000e+00,   0.00000000e+00,   0.00000000e+00,\n",
       "         3.77909463e+01,   3.70523720e+02,   7.84113382e+01,\n",
       "         0.00000000e+00,   0.00000000e+00,   0.00000000e+00,\n",
       "        -1.37294433e+01,   1.75943431e+01,  -5.28824165e+00,\n",
       "         0.00000000e+00,   0.00000000e+00,   0.00000000e+00,\n",
       "         0.00000000e+00,   0.00000000e+00,   7.12991521e+01,\n",
       "         4.82661325e+01,   1.82217026e+01,   1.89990077e+01,\n",
       "         2.33517668e+01,   0.00000000e+00,   0.00000000e+00,\n",
       "         0.00000000e+00,  -1.23819111e-01,   9.41811702e-02,\n",
       "         1.66495845e-02,   0.00000000e+00,   0.00000000e+00,\n",
       "         0.00000000e+00,  -9.28341554e-02,   5.03239787e-02,\n",
       "        -9.94327287e-01])"
      ]
     },
     "execution_count": 264,
     "metadata": {},
     "output_type": "execute_result"
    }
   ],
   "source": [
    "z[10][10]"
   ]
  },
  {
   "cell_type": "code",
   "execution_count": 263,
   "metadata": {},
   "outputs": [
    {
     "data": {
      "text/plain": [
       "array([  0.00000000e+00,   0.00000000e+00,   0.00000000e+00,\n",
       "         3.77909463e+01,   3.70523720e+02,   7.84113382e+01,\n",
       "         0.00000000e+00,   0.00000000e+00,   0.00000000e+00,\n",
       "        -1.37294433e+01,   1.75943431e+01,  -5.28824165e+00,\n",
       "         0.00000000e+00,   0.00000000e+00,   0.00000000e+00,\n",
       "         0.00000000e+00,   0.00000000e+00,   7.12991521e+01,\n",
       "         4.82661325e+01,   1.82217026e+01,   1.89990077e+01,\n",
       "         2.33517668e+01,   0.00000000e+00,   0.00000000e+00,\n",
       "         0.00000000e+00,  -1.23819111e-01,   9.41811702e-02,\n",
       "         1.66495845e-02,   0.00000000e+00,   0.00000000e+00,\n",
       "         0.00000000e+00,  -9.28341554e-02,   5.03239787e-02,\n",
       "        -9.94327287e-01])"
      ]
     },
     "execution_count": 263,
     "metadata": {},
     "output_type": "execute_result"
    }
   ],
   "source": [
    "x_augment[0.90][10][10]"
   ]
  },
  {
   "cell_type": "code",
   "execution_count": 297,
   "metadata": {},
   "outputs": [
    {
     "name": "stdout",
     "output_type": "stream",
     "text": [
      "29\n"
     ]
    }
   ],
   "source": [
    "for i in range((x_augment[0.90][50] - z[50]).shape[0]):\n",
    "    if (x_augment[0.90][50] - z[50])[i][3] != 0:\n",
    "        print(i)"
   ]
  },
  {
   "cell_type": "code",
   "execution_count": 145,
   "metadata": {
    "collapsed": true
   },
   "outputs": [],
   "source": [
    "x_std = x.std(axis=(0,1), keepdims=True)\n",
    "x_mean = x.mean(axis=(0,1), keepdims=True)\n",
    "x_norm = (x-x_mean)/x_std\n",
    "# x_norm = (x-x_min)/(x_max-x_min)\n",
    "# x_norm = 2*(x-(x_max+x_min)/2)/(x_max-x_min)"
   ]
  },
  {
   "cell_type": "code",
   "execution_count": 146,
   "metadata": {
    "collapsed": true
   },
   "outputs": [],
   "source": [
    "x_train = np.zeros([data_length * 2 // 3, timesteps, dimensions])\n",
    "y_train = np.zeros([data_length * 2 // 3])\n",
    "x_test = np.zeros([data_length // 3, timesteps, dimensions])\n",
    "y_test = np.zeros([data_length // 3])\n",
    "for idx in range(data_length):\n",
    "    if idx % 3 == 2:\n",
    "        x_test[idx // 3] = x_norm[idx]\n",
    "        y_test[idx // 3] = y[idx]\n",
    "    else:\n",
    "        x_train[idx - idx // 3] = x_norm[idx]\n",
    "        y_train[idx - idx // 3] = y[idx]"
   ]
  },
  {
   "cell_type": "code",
   "execution_count": 147,
   "metadata": {
    "collapsed": true
   },
   "outputs": [],
   "source": [
    "shuffle_train = np.arange(len(x_train))\n",
    "np.random.seed(0)\n",
    "np.random.shuffle(shuffle_train)\n",
    "x_train_shuffle = np.zeros([data_length * 2 // 3, timesteps, dimensions])\n",
    "y_train_shuffle = np.zeros([data_length * 2 // 3])\n",
    "for idx, item in enumerate(shuffle_train):\n",
    "    x_train_shuffle[idx] = x_train[item]\n",
    "    y_train_shuffle[idx] = y_train[item]"
   ]
  },
  {
   "cell_type": "code",
   "execution_count": 143,
   "metadata": {
    "collapsed": true
   },
   "outputs": [],
   "source": [
    "x_train_shuffle2 = x_train_shuffle"
   ]
  },
  {
   "cell_type": "code",
   "execution_count": 148,
   "metadata": {
    "collapsed": true
   },
   "outputs": [],
   "source": [
    "x_train_shuffle1 = x_train_shuffle"
   ]
  },
  {
   "cell_type": "code",
   "execution_count": 150,
   "metadata": {
    "collapsed": true
   },
   "outputs": [],
   "source": [
    "# encoding label\n",
    "Y_train_shuffle = np_utils.to_categorical(y_train_shuffle, len(words))\n",
    "Y_test = np_utils.to_categorical(y_test, len(words))"
   ]
  },
  {
   "cell_type": "code",
   "execution_count": 212,
   "metadata": {
    "collapsed": true
   },
   "outputs": [],
   "source": [
    "fingers = Input(shape=(timesteps, dimensions), name='fingers')\n",
    "fingers_layers = GRU(64, activation='tanh', recurrent_activation='hard_sigmoid', dropout=0.2, recurrent_dropout=0.2)(fingers)\n",
    "fingers_layers = Dense(64, activation='relu')(fingers_layers)\n",
    "fingers_layers = Dropout(0.2)(fingers_layers)\n",
    "fingers_layers = Dense(64, activation='relu')(fingers_layers)\n",
    "fingers_layers = Dropout(0.2)(fingers_layers)\n",
    "fingers_layers = Dense(64, activation='relu')(fingers_layers)\n",
    "fingers_layers = Dropout(0.2)(fingers_layers)\n",
    "output_layer = Dense(len(words), activation='softmax')(fingers_layers)\n",
    "model = Model(inputs=fingers, outputs=output_layer)\n",
    "adam = Adam(lr=0.01, decay=0.0005)\n",
    "model.compile(optimizer=adam,\n",
    "              loss='categorical_crossentropy',\n",
    "              metrics=['accuracy'])"
   ]
  },
  {
   "cell_type": "code",
   "execution_count": 103,
   "metadata": {},
   "outputs": [
    {
     "name": "stdout",
     "output_type": "stream",
     "text": [
      "Train on 684 samples, validate on 342 samples\n",
      "Epoch 1/100\n",
      "684/684 [==============================] - 3s 5ms/step - loss: 2.9838 - acc: 0.0482 - val_loss: 2.9497 - val_acc: 0.0526\n",
      "Epoch 2/100\n",
      "684/684 [==============================] - 2s 3ms/step - loss: 2.9396 - acc: 0.0643 - val_loss: 2.8927 - val_acc: 0.0702\n",
      "Epoch 3/100\n",
      "684/684 [==============================] - 2s 3ms/step - loss: 2.9069 - acc: 0.0789 - val_loss: 2.7973 - val_acc: 0.1550\n",
      "Epoch 4/100\n",
      "684/684 [==============================] - 2s 3ms/step - loss: 2.8043 - acc: 0.1082 - val_loss: 2.5845 - val_acc: 0.1228\n",
      "Epoch 5/100\n",
      "684/684 [==============================] - 2s 3ms/step - loss: 2.6518 - acc: 0.1038 - val_loss: 2.5491 - val_acc: 0.1520\n",
      "Epoch 6/100\n",
      "684/684 [==============================] - 2s 3ms/step - loss: 2.6380 - acc: 0.1140 - val_loss: 2.3084 - val_acc: 0.2018\n",
      "Epoch 7/100\n",
      "684/684 [==============================] - 2s 3ms/step - loss: 2.6038 - acc: 0.1462 - val_loss: 2.3950 - val_acc: 0.1667\n",
      "Epoch 8/100\n",
      "684/684 [==============================] - 2s 3ms/step - loss: 2.4661 - acc: 0.1637 - val_loss: 2.2227 - val_acc: 0.1959\n",
      "Epoch 9/100\n",
      "684/684 [==============================] - 2s 3ms/step - loss: 2.4167 - acc: 0.1520 - val_loss: 2.2231 - val_acc: 0.2222\n",
      "Epoch 10/100\n",
      "684/684 [==============================] - 2s 3ms/step - loss: 2.4283 - acc: 0.1520 - val_loss: 2.2305 - val_acc: 0.2018\n",
      "Epoch 11/100\n",
      "684/684 [==============================] - 2s 3ms/step - loss: 2.3798 - acc: 0.1813 - val_loss: 2.1645 - val_acc: 0.1754\n",
      "Epoch 12/100\n",
      "684/684 [==============================] - 2s 3ms/step - loss: 2.3343 - acc: 0.2003 - val_loss: 2.0843 - val_acc: 0.3012\n",
      "Epoch 13/100\n",
      "684/684 [==============================] - 2s 3ms/step - loss: 2.3122 - acc: 0.2032 - val_loss: 2.0738 - val_acc: 0.2105\n",
      "Epoch 14/100\n",
      "684/684 [==============================] - 2s 3ms/step - loss: 2.2814 - acc: 0.2105 - val_loss: 2.0201 - val_acc: 0.2485\n",
      "Epoch 15/100\n",
      "684/684 [==============================] - 2s 3ms/step - loss: 2.3058 - acc: 0.1798 - val_loss: 1.9836 - val_acc: 0.2632\n",
      "Epoch 16/100\n",
      "684/684 [==============================] - 2s 3ms/step - loss: 2.2950 - acc: 0.1886 - val_loss: 1.9707 - val_acc: 0.2661\n",
      "Epoch 17/100\n",
      "684/684 [==============================] - 2s 3ms/step - loss: 2.2214 - acc: 0.1944 - val_loss: 1.9443 - val_acc: 0.2807\n",
      "Epoch 18/100\n",
      "684/684 [==============================] - 2s 3ms/step - loss: 2.1763 - acc: 0.2237 - val_loss: 1.9346 - val_acc: 0.2895\n",
      "Epoch 19/100\n",
      "684/684 [==============================] - 2s 3ms/step - loss: 2.2066 - acc: 0.1886 - val_loss: 1.9633 - val_acc: 0.2105\n",
      "Epoch 20/100\n",
      "684/684 [==============================] - 2s 3ms/step - loss: 2.2312 - acc: 0.1959 - val_loss: 1.8474 - val_acc: 0.2778\n",
      "Epoch 21/100\n",
      "684/684 [==============================] - 2s 3ms/step - loss: 2.1649 - acc: 0.2149 - val_loss: 1.8487 - val_acc: 0.2865\n",
      "Epoch 22/100\n",
      "684/684 [==============================] - 2s 4ms/step - loss: 2.1684 - acc: 0.2091 - val_loss: 1.8477 - val_acc: 0.2573\n",
      "Epoch 23/100\n",
      "684/684 [==============================] - 2s 3ms/step - loss: 2.1415 - acc: 0.2018 - val_loss: 1.9146 - val_acc: 0.2573\n",
      "Epoch 24/100\n",
      "684/684 [==============================] - 2s 3ms/step - loss: 2.1345 - acc: 0.2208 - val_loss: 1.8684 - val_acc: 0.3626\n",
      "Epoch 25/100\n",
      "684/684 [==============================] - 2s 3ms/step - loss: 2.0367 - acc: 0.2471 - val_loss: 1.7689 - val_acc: 0.3275\n",
      "Epoch 26/100\n",
      "684/684 [==============================] - 2s 3ms/step - loss: 2.0729 - acc: 0.2471 - val_loss: 1.8381 - val_acc: 0.3392\n",
      "Epoch 27/100\n",
      "684/684 [==============================] - 2s 3ms/step - loss: 2.0918 - acc: 0.2222 - val_loss: 1.8489 - val_acc: 0.2982\n",
      "Epoch 28/100\n",
      "684/684 [==============================] - 2s 3ms/step - loss: 2.1087 - acc: 0.2281 - val_loss: 1.7944 - val_acc: 0.3596\n",
      "Epoch 29/100\n",
      "684/684 [==============================] - 2s 4ms/step - loss: 2.1121 - acc: 0.2471 - val_loss: 1.8373 - val_acc: 0.3129\n",
      "Epoch 30/100\n",
      "684/684 [==============================] - 2s 3ms/step - loss: 2.0959 - acc: 0.2295 - val_loss: 1.7525 - val_acc: 0.3216\n",
      "Epoch 31/100\n",
      "684/684 [==============================] - 2s 3ms/step - loss: 2.0632 - acc: 0.2281 - val_loss: 1.7496 - val_acc: 0.3216\n",
      "Epoch 32/100\n",
      "684/684 [==============================] - 2s 3ms/step - loss: 2.0427 - acc: 0.2398 - val_loss: 1.7342 - val_acc: 0.3187\n",
      "Epoch 33/100\n",
      "684/684 [==============================] - 2s 3ms/step - loss: 2.0624 - acc: 0.2500 - val_loss: 1.7436 - val_acc: 0.3187\n",
      "Epoch 34/100\n",
      "684/684 [==============================] - 2s 3ms/step - loss: 2.0302 - acc: 0.2617 - val_loss: 1.7516 - val_acc: 0.3450\n",
      "Epoch 35/100\n",
      "684/684 [==============================] - 2s 3ms/step - loss: 2.0340 - acc: 0.2485 - val_loss: 1.7974 - val_acc: 0.3392\n",
      "Epoch 36/100\n",
      "684/684 [==============================] - 2s 4ms/step - loss: 2.0075 - acc: 0.2485 - val_loss: 1.7393 - val_acc: 0.3684\n",
      "Epoch 37/100\n",
      "684/684 [==============================] - 2s 3ms/step - loss: 1.9568 - acc: 0.2675 - val_loss: 1.6710 - val_acc: 0.3216\n",
      "Epoch 38/100\n",
      "684/684 [==============================] - 2s 3ms/step - loss: 1.9980 - acc: 0.2602 - val_loss: 1.6761 - val_acc: 0.3801\n",
      "Epoch 39/100\n",
      "684/684 [==============================] - 2s 4ms/step - loss: 1.9547 - acc: 0.2632 - val_loss: 1.6926 - val_acc: 0.3596\n",
      "Epoch 40/100\n",
      "684/684 [==============================] - 2s 3ms/step - loss: 1.9590 - acc: 0.2763 - val_loss: 1.6160 - val_acc: 0.4094\n",
      "Epoch 41/100\n",
      "684/684 [==============================] - 2s 4ms/step - loss: 1.9546 - acc: 0.2763 - val_loss: 1.6087 - val_acc: 0.3801\n",
      "Epoch 42/100\n",
      "684/684 [==============================] - 3s 4ms/step - loss: 1.9558 - acc: 0.2865 - val_loss: 1.5930 - val_acc: 0.4035\n",
      "Epoch 43/100\n",
      "684/684 [==============================] - 2s 4ms/step - loss: 1.9265 - acc: 0.2997 - val_loss: 1.5726 - val_acc: 0.4211\n",
      "Epoch 44/100\n",
      "684/684 [==============================] - 2s 3ms/step - loss: 1.8747 - acc: 0.2822 - val_loss: 1.6499 - val_acc: 0.3713\n",
      "Epoch 45/100\n",
      "684/684 [==============================] - 2s 3ms/step - loss: 1.8989 - acc: 0.2982 - val_loss: 1.5906 - val_acc: 0.3684\n",
      "Epoch 46/100\n",
      "684/684 [==============================] - 2s 4ms/step - loss: 1.9120 - acc: 0.2822 - val_loss: 1.5703 - val_acc: 0.4123\n",
      "Epoch 47/100\n",
      "684/684 [==============================] - 2s 3ms/step - loss: 1.8838 - acc: 0.2865 - val_loss: 1.5575 - val_acc: 0.3626\n",
      "Epoch 48/100\n",
      "684/684 [==============================] - 2s 3ms/step - loss: 1.9285 - acc: 0.2749 - val_loss: 1.5652 - val_acc: 0.3918\n",
      "Epoch 49/100\n",
      "684/684 [==============================] - 2s 4ms/step - loss: 1.8986 - acc: 0.2909 - val_loss: 1.5812 - val_acc: 0.3830\n",
      "Epoch 50/100\n",
      "684/684 [==============================] - 2s 4ms/step - loss: 1.8606 - acc: 0.2895 - val_loss: 1.5749 - val_acc: 0.4006\n",
      "Epoch 51/100\n",
      "684/684 [==============================] - 2s 4ms/step - loss: 1.8782 - acc: 0.2792 - val_loss: 1.5655 - val_acc: 0.4240\n",
      "Epoch 52/100\n",
      "684/684 [==============================] - 2s 4ms/step - loss: 1.8864 - acc: 0.2763 - val_loss: 1.5369 - val_acc: 0.4035\n",
      "Epoch 53/100\n",
      "684/684 [==============================] - 2s 4ms/step - loss: 1.8365 - acc: 0.3377 - val_loss: 1.5721 - val_acc: 0.3772\n",
      "Epoch 54/100\n",
      "684/684 [==============================] - 2s 4ms/step - loss: 1.8529 - acc: 0.2924 - val_loss: 1.5213 - val_acc: 0.4181\n",
      "Epoch 55/100\n",
      "684/684 [==============================] - 2s 4ms/step - loss: 1.8145 - acc: 0.3099 - val_loss: 1.5338 - val_acc: 0.4269\n",
      "Epoch 56/100\n",
      "684/684 [==============================] - 3s 4ms/step - loss: 1.7979 - acc: 0.3275 - val_loss: 1.5397 - val_acc: 0.4298\n",
      "Epoch 57/100\n",
      "684/684 [==============================] - 2s 3ms/step - loss: 1.8329 - acc: 0.3216 - val_loss: 1.5292 - val_acc: 0.3977\n",
      "Epoch 58/100\n",
      "684/684 [==============================] - 2s 4ms/step - loss: 1.7961 - acc: 0.2880 - val_loss: 1.4596 - val_acc: 0.4181\n",
      "Epoch 59/100\n",
      "684/684 [==============================] - 2s 4ms/step - loss: 1.8161 - acc: 0.3363 - val_loss: 1.4826 - val_acc: 0.4152\n",
      "Epoch 60/100\n",
      "684/684 [==============================] - 2s 4ms/step - loss: 1.7424 - acc: 0.3114 - val_loss: 1.4463 - val_acc: 0.4064\n",
      "Epoch 61/100\n",
      "684/684 [==============================] - 2s 4ms/step - loss: 1.6773 - acc: 0.3275 - val_loss: 1.3813 - val_acc: 0.4211\n"
     ]
    },
    {
     "name": "stdout",
     "output_type": "stream",
     "text": [
      "Epoch 62/100\n",
      "684/684 [==============================] - 2s 4ms/step - loss: 1.6874 - acc: 0.3099 - val_loss: 1.3875 - val_acc: 0.4474\n",
      "Epoch 63/100\n",
      "684/684 [==============================] - 2s 3ms/step - loss: 1.8140 - acc: 0.3129 - val_loss: 1.4279 - val_acc: 0.4357\n",
      "Epoch 64/100\n",
      "684/684 [==============================] - 2s 3ms/step - loss: 1.7095 - acc: 0.3480 - val_loss: 1.3689 - val_acc: 0.4123\n",
      "Epoch 65/100\n",
      "684/684 [==============================] - 2s 3ms/step - loss: 1.7303 - acc: 0.3260 - val_loss: 1.3657 - val_acc: 0.4357\n",
      "Epoch 66/100\n",
      "684/684 [==============================] - 2s 3ms/step - loss: 1.7353 - acc: 0.3567 - val_loss: 1.3825 - val_acc: 0.4181\n",
      "Epoch 67/100\n",
      "684/684 [==============================] - 2s 3ms/step - loss: 1.6925 - acc: 0.3436 - val_loss: 1.3670 - val_acc: 0.4298\n",
      "Epoch 68/100\n",
      "684/684 [==============================] - 2s 3ms/step - loss: 1.6633 - acc: 0.3275 - val_loss: 1.3692 - val_acc: 0.4708\n",
      "Epoch 69/100\n",
      "684/684 [==============================] - 2s 4ms/step - loss: 1.7041 - acc: 0.3319 - val_loss: 1.3490 - val_acc: 0.4474\n",
      "Epoch 70/100\n",
      "684/684 [==============================] - 2s 3ms/step - loss: 1.6756 - acc: 0.3421 - val_loss: 1.3300 - val_acc: 0.4708\n",
      "Epoch 71/100\n",
      "684/684 [==============================] - 2s 3ms/step - loss: 1.7086 - acc: 0.3465 - val_loss: 1.3427 - val_acc: 0.4795\n",
      "Epoch 72/100\n",
      "684/684 [==============================] - 2s 3ms/step - loss: 1.6511 - acc: 0.3757 - val_loss: 1.3236 - val_acc: 0.4620\n",
      "Epoch 73/100\n",
      "684/684 [==============================] - 2s 3ms/step - loss: 1.7263 - acc: 0.3333 - val_loss: 1.3442 - val_acc: 0.4357\n",
      "Epoch 74/100\n",
      "684/684 [==============================] - 2s 3ms/step - loss: 1.6477 - acc: 0.3406 - val_loss: 1.3141 - val_acc: 0.4444\n",
      "Epoch 75/100\n",
      "684/684 [==============================] - 2s 3ms/step - loss: 1.7136 - acc: 0.3070 - val_loss: 1.3183 - val_acc: 0.4620\n",
      "Epoch 76/100\n",
      "684/684 [==============================] - 2s 4ms/step - loss: 1.6650 - acc: 0.3406 - val_loss: 1.2820 - val_acc: 0.5058\n",
      "Epoch 77/100\n",
      "684/684 [==============================] - 2s 4ms/step - loss: 1.6513 - acc: 0.3626 - val_loss: 1.2684 - val_acc: 0.5058\n",
      "Epoch 78/100\n",
      "684/684 [==============================] - 2s 4ms/step - loss: 1.6426 - acc: 0.3582 - val_loss: 1.2731 - val_acc: 0.4942\n",
      "Epoch 79/100\n",
      "684/684 [==============================] - 2s 3ms/step - loss: 1.5664 - acc: 0.4064 - val_loss: 1.2761 - val_acc: 0.4678\n",
      "Epoch 80/100\n",
      "684/684 [==============================] - 2s 4ms/step - loss: 1.6798 - acc: 0.3713 - val_loss: 1.3082 - val_acc: 0.4532\n",
      "Epoch 81/100\n",
      "684/684 [==============================] - 2s 4ms/step - loss: 1.5907 - acc: 0.3640 - val_loss: 1.2781 - val_acc: 0.5263\n",
      "Epoch 82/100\n",
      "684/684 [==============================] - 2s 4ms/step - loss: 1.5845 - acc: 0.3465 - val_loss: 1.2901 - val_acc: 0.5088\n",
      "Epoch 83/100\n",
      "684/684 [==============================] - 3s 4ms/step - loss: 1.5935 - acc: 0.3626 - val_loss: 1.2638 - val_acc: 0.5058\n",
      "Epoch 84/100\n",
      "684/684 [==============================] - 2s 4ms/step - loss: 1.5748 - acc: 0.4079 - val_loss: 1.2809 - val_acc: 0.4912\n",
      "Epoch 85/100\n",
      "684/684 [==============================] - 2s 4ms/step - loss: 1.5514 - acc: 0.4035 - val_loss: 1.2782 - val_acc: 0.4971\n",
      "Epoch 86/100\n",
      "684/684 [==============================] - 2s 4ms/step - loss: 1.5379 - acc: 0.3787 - val_loss: 1.2679 - val_acc: 0.4912\n",
      "Epoch 87/100\n",
      "684/684 [==============================] - 2s 3ms/step - loss: 1.6250 - acc: 0.3699 - val_loss: 1.2491 - val_acc: 0.5205\n",
      "Epoch 88/100\n",
      "684/684 [==============================] - 2s 3ms/step - loss: 1.5756 - acc: 0.3933 - val_loss: 1.2656 - val_acc: 0.4942\n",
      "Epoch 89/100\n",
      "684/684 [==============================] - 3s 4ms/step - loss: 1.6481 - acc: 0.3743 - val_loss: 1.2686 - val_acc: 0.5234\n",
      "Epoch 90/100\n",
      "684/684 [==============================] - 3s 4ms/step - loss: 1.5320 - acc: 0.3918 - val_loss: 1.2443 - val_acc: 0.5146\n",
      "Epoch 91/100\n",
      "684/684 [==============================] - 3s 4ms/step - loss: 1.5738 - acc: 0.3596 - val_loss: 1.2309 - val_acc: 0.5029\n",
      "Epoch 92/100\n",
      "684/684 [==============================] - 3s 4ms/step - loss: 1.5661 - acc: 0.4006 - val_loss: 1.2214 - val_acc: 0.5409\n",
      "Epoch 93/100\n",
      "684/684 [==============================] - 3s 4ms/step - loss: 1.5432 - acc: 0.3860 - val_loss: 1.2043 - val_acc: 0.5292\n",
      "Epoch 94/100\n",
      "684/684 [==============================] - 3s 4ms/step - loss: 1.5690 - acc: 0.4020 - val_loss: 1.2074 - val_acc: 0.5234\n",
      "Epoch 95/100\n",
      "684/684 [==============================] - 3s 4ms/step - loss: 1.6220 - acc: 0.3904 - val_loss: 1.3055 - val_acc: 0.4825\n",
      "Epoch 96/100\n",
      "684/684 [==============================] - 3s 4ms/step - loss: 1.5752 - acc: 0.3904 - val_loss: 1.2184 - val_acc: 0.5380\n",
      "Epoch 97/100\n",
      "684/684 [==============================] - 2s 4ms/step - loss: 1.5101 - acc: 0.4123 - val_loss: 1.2128 - val_acc: 0.5088\n",
      "Epoch 98/100\n",
      "684/684 [==============================] - 2s 4ms/step - loss: 1.5932 - acc: 0.3728 - val_loss: 1.2913 - val_acc: 0.4795\n",
      "Epoch 99/100\n",
      "684/684 [==============================] - 3s 4ms/step - loss: 1.5612 - acc: 0.4035 - val_loss: 1.2253 - val_acc: 0.5526\n",
      "Epoch 100/100\n",
      "684/684 [==============================] - 3s 4ms/step - loss: 1.4813 - acc: 0.4020 - val_loss: 1.2157 - val_acc: 0.5234\n"
     ]
    }
   ],
   "source": [
    "history = model.fit(x_train_shuffle, Y_train_shuffle,validation_data=(x_test, Y_test), epochs=100, batch_size=8, shuffle=True)"
   ]
  },
  {
   "cell_type": "code",
   "execution_count": 153,
   "metadata": {},
   "outputs": [
    {
     "name": "stdout",
     "output_type": "stream",
     "text": [
      "342/342 [==============================] - 0s 921us/step\n",
      "Test score: 1.06670863935\n",
      "Test accuracy: 0.578947368421\n"
     ]
    }
   ],
   "source": [
    "score, acc = model.evaluate(x_test, Y_test)\n",
    "print('Test score:', score)\n",
    "print('Test accuracy:', acc)"
   ]
  },
  {
   "cell_type": "code",
   "execution_count": 159,
   "metadata": {},
   "outputs": [
    {
     "name": "stdout",
     "output_type": "stream",
     "text": [
      "dict_keys(['val_loss', 'val_acc', 'loss', 'acc'])\n"
     ]
    }
   ],
   "source": [
    "import matplotlib.pyplot as plt\n",
    "# list all data in history\n",
    "print(history.history.keys())"
   ]
  },
  {
   "cell_type": "code",
   "execution_count": 160,
   "metadata": {},
   "outputs": [
    {
     "data": {
      "image/png": "[encoded data removed]",
      "text/plain": [
       "<matplotlib.figure.Figure at 0x15d70904eb8>"
      ]
     },
     "metadata": {},
     "output_type": "display_data"
    },
    {
     "data": {
      "image/png": "[encoded data removed]",
      "text/plain": [
       "<matplotlib.figure.Figure at 0x15d7090d6d8>"
      ]
     },
     "metadata": {},
     "output_type": "display_data"
    }
   ],
   "source": [
    "# summarize history for accuracy\n",
    "plt.plot(history.history['acc'])\n",
    "plt.plot(history.history['val_acc'])\n",
    "plt.title('model accuracy')\n",
    "plt.ylabel('accuracy')\n",
    "plt.xlabel('epoch')\n",
    "plt.legend(['train', 'test'], loc='upper left')\n",
    "plt.show()\n",
    "# summarize history for loss\n",
    "plt.plot(history.history['loss'])\n",
    "plt.plot(history.history['val_loss'])\n",
    "plt.title('model loss')\n",
    "plt.ylabel('loss')\n",
    "plt.xlabel('epoch')\n",
    "plt.legend(['train', 'test'], loc='upper left')\n",
    "plt.show()"
   ]
  },
  {
   "cell_type": "code",
   "execution_count": null,
   "metadata": {},
   "outputs": [],
   "source": []
  },
  {
   "cell_type": "code",
   "execution_count": 28,
   "metadata": {
    "collapsed": true
   },
   "outputs": [],
   "source": [
    "def generate_confusion_matrix(prediction, y_actual, words):\n",
    "    confusion_matrix = np.zeros([len(words), len(words)])\n",
    "    prediction_word_index = np.argmax(prediction, axis = 1)\n",
    "\n",
    "    for idx in range(len(prediction_word_index)):\n",
    "        actual = y_actual[idx]\n",
    "        result = prediction_word_index[idx]\n",
    "        confusion_matrix[int(actual)][result] += 1\n",
    "        \n",
    "    return confusion_matrix"
   ]
  },
  {
   "cell_type": "code",
   "execution_count": 29,
   "metadata": {
    "collapsed": true
   },
   "outputs": [],
   "source": [
    "def cal_acc(confusion_matrix, words, test_data_per_word):\n",
    "    test_acc = 0\n",
    "\n",
    "    for idx in range(len(words)):\n",
    "        test_acc += confusion_matrix[idx][idx]\n",
    "    test_acc /= (test_data_per_word * len(words))\n",
    "\n",
    "    return test_acc"
   ]
  },
  {
   "cell_type": "code",
   "execution_count": 30,
   "metadata": {
    "collapsed": true
   },
   "outputs": [],
   "source": [
    "def cal_acc(confusion_matrix, words, test_data_per_word):\n",
    "    test_acc = 0\n",
    "\n",
    "    for idx in range(len(words)):\n",
    "        test_acc += confusion_matrix[idx][idx]\n",
    "    test_acc /= (test_data_per_word * len(words))\n",
    "\n",
    "    return test_acc"
   ]
  },
  {
   "cell_type": "code",
   "execution_count": 31,
   "metadata": {
    "collapsed": true
   },
   "outputs": [],
   "source": [
    "def predict_and_plot(x_test, y_test, words, test_data_per_word):\n",
    "    prediction = model.predict(x_test, verbose = 1)\n",
    "    confusion_matrix = generate_confusion_matrix(prediction, y_test, words)\n",
    "    print('acc: ', cal_acc(confusion_matrix, words, test_data_per_word))\n",
    "    plot_confusion_matrix(confusion_matrix, words, words)"
   ]
  },
  {
   "cell_type": "code",
   "execution_count": 33,
   "metadata": {
    "collapsed": true
   },
   "outputs": [],
   "source": [
    "def plot_confusion_matrix(confusion_matrix, label_x, label_y):\n",
    "    import seaborn as sn\n",
    "    import pandas as pd\n",
    "    import matplotlib.pyplot as plt\n",
    "    %matplotlib inline\n",
    "\n",
    "    df_cm = pd.DataFrame(confusion_matrix, label_x, label_y)\n",
    "    plt.figure(figsize = (15,12))\n",
    "    sn.set(font_scale=1.4)#for label size\n",
    "    sn.heatmap(df_cm, cmap=\"Blues\", annot=True, annot_kws={\"size\": 16})# font size"
   ]
  },
  {
   "cell_type": "code",
   "execution_count": 34,
   "metadata": {},
   "outputs": [
    {
     "name": "stdout",
     "output_type": "stream",
     "text": [
      "342/342 [==============================] - 0s 207us/step\n",
      "acc:  0.859649122807\n"
     ]
    },
    {
     "data": {
      "image/png": "[encoded data removed]",
      "text/plain": [
       "<matplotlib.figure.Figure at 0x15d487ecc88>"
      ]
     },
     "metadata": {},
     "output_type": "display_data"
    }
   ],
   "source": [
    "predict_and_plot(x_test, y_test, words, test_data_per_word = 18)"
   ]
  },
  {
   "cell_type": "code",
   "execution_count": null,
   "metadata": {
    "collapsed": true
   },
   "outputs": [],
   "source": []
  },
  {
   "cell_type": "code",
   "execution_count": null,
   "metadata": {
    "collapsed": true
   },
   "outputs": [],
   "source": [
    "x_predict = np.zeros([0, timesteps, dimensions])\n",
    "y_actual = np.zeros([0])\n",
    "\n",
    "test_data_per_word = 10\n",
    "\n",
    "for word_no, word in enumerate(words):\n",
    "    for data_no in range(test_data_per_word):\n",
    "        try:\n",
    "            with open(\"./record_test/{}/json_{}.txt\".format(word, data_no)) as json_data:\n",
    "                json_data = json.load(json_data)\n",
    "        except Exception as s:\n",
    "            print ('error log:', s)\n",
    "\n",
    "        _timesteps = get_timesteps(json_data, pick_frame_every_no)\n",
    "        _timesteps = np.vstack((_timesteps, np.zeros([timesteps - _timesteps.shape[0], dimensions])))\n",
    "        x_predict = np.vstack((x_predict, [_timesteps]))\n",
    "        y_actual = np.append(y_actual, word_no)\n",
    "        \n",
    "x_predict_norm = (x_predict-x_mean)/x_std\n",
    "    \n",
    "predict_and_plot(x_test = x_predict_norm, y_test = y_actual, words = words, test_data_per_word = 10)"
   ]
  }
 ],
 "metadata": {
  "kernelspec": {
   "display_name": "Python 3",
   "language": "python",
   "name": "python3"
  },
  "language_info": {
   "codemirror_mode": {
    "name": "ipython",
    "version": 3
   },
   "file_extension": ".py",
   "mimetype": "text/x-python",
   "name": "python",
   "nbconvert_exporter": "python",
   "pygments_lexer": "ipython3",
   "version": "3.6.3"
  }
 },
 "nbformat": 4,
 "nbformat_minor": 2
}
