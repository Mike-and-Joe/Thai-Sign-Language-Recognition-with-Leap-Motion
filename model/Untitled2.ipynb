{
 "cells": [
  {
   "cell_type": "code",
   "execution_count": 1,
   "metadata": {},
   "outputs": [
    {
     "name": "stderr",
     "output_type": "stream",
     "text": [
      "Using TensorFlow backend.\n"
     ]
    }
   ],
   "source": [
    "from keras.preprocessing import sequence\n",
    "from keras.models import Sequential, Model\n",
    "from keras.layers import GRU, Dense, Embedding, Input, concatenate\n",
    "from keras.utils import np_utils"
   ]
  },
  {
   "cell_type": "code",
   "execution_count": 2,
   "metadata": {
    "collapsed": true
   },
   "outputs": [],
   "source": [
    "# variable\n",
    "words = [\n",
    "    'come quickly', 'emergency', 'father', 'fever', 'good luck',\n",
    "    'headache', 'hello', 'help', 'hi', 'hungry',\n",
    "    'like', 'mother', 'mother_father', 'mother_mother', 'not ok',\n",
    "    'quickly', 'sorry', 'tomorrow', 'yogurt'\n",
    "]\n",
    "data_per_word = 27\n",
    "data_length = data_per_word * len(words)\n",
    "timesteps = 600\n",
    "dimensions = 3 * 40"
   ]
  },
  {
   "cell_type": "code",
   "execution_count": 3,
   "metadata": {
    "collapsed": true
   },
   "outputs": [],
   "source": [
    "def get_bone_pos(frame):\n",
    "    finger_name = ['thumb', 'index', 'middle', 'ring', 'pinky']\n",
    "#     coordinate = ['x', 'y', 'z']\n",
    "    bone_pos = np.zeros([40, 3]) # [cooridinates x fingers]\n",
    "#     finger_tip = {}\n",
    "    if 'right' in frame['hands']:\n",
    "        for idx, finger in enumerate(finger_name):\n",
    "            bone_pos[idx, :] = np.array(frame['hands']['right']['fingers'][finger]['bones']['distal']['next_joint'])\n",
    "            bone_pos[5 + idx, :] = np.array(frame['hands']['right']['fingers'][finger]['bones']['intermediate']['next_joint'])\n",
    "            bone_pos[10 + idx, :] = np.array(frame['hands']['right']['fingers'][finger]['bones']['proximal']['next_joint'])\n",
    "            bone_pos[15 + idx, :] = np.array(frame['hands']['right']['fingers'][finger]['bones']['metacarpal']['next_joint'])\n",
    "    if 'left' in frame['hands']:\n",
    "        for idx, finger in enumerate(finger_name):\n",
    "            bone_pos[20 + idx, :] = np.array(frame['hands']['left']['fingers'][finger]['bones']['distal']['next_joint'])\n",
    "            bone_pos[25 + idx, :] = np.array(frame['hands']['left']['fingers'][finger]['bones']['intermediate']['next_joint'])\n",
    "            bone_pos[30 + idx, :] = np.array(frame['hands']['left']['fingers'][finger]['bones']['proximal']['next_joint'])\n",
    "            bone_pos[35 + idx, :] = np.array(frame['hands']['left']['fingers'][finger]['bones']['metacarpal']['next_joint'])\n",
    "\n",
    "    return bone_pos"
   ]
  },
  {
   "cell_type": "code",
   "execution_count": 4,
   "metadata": {
    "collapsed": true
   },
   "outputs": [],
   "source": [
    "import json\n",
    "import pandas as pd\n",
    "import numpy as np"
   ]
  },
  {
   "cell_type": "code",
   "execution_count": 7,
   "metadata": {
    "collapsed": true
   },
   "outputs": [],
   "source": [
    "x = np.zeros([data_length, timesteps, dimensions])\n",
    "y = np.array([])\n",
    "for word_no, word in enumerate(words):\n",
    "    for data_no in range(data_per_word):\n",
    "        try:\n",
    "            with open(\"./record/{}/json_{}.txt\".format(word, data_no)) as json_data:\n",
    "                json_data = json.load(json_data)\n",
    "        except Exception as s:\n",
    "            print ('error log:', s)\n",
    "            \n",
    "        json_data()\n",
    "        for frame_no, frame in enumerate(json_data):\n",
    "            if not frame['hands']: #check if frame[hands] is null\n",
    "                continue\n",
    "            bones_pos = get_bone_pos(frame)\n",
    "            for idx, bone_pos in enumerate(bones_pos):\n",
    "                x[word_no * data_per_word + data_no, frame_no, idx * 3: idx * 3 + 3] = bone_pos\n",
    "#             right_thumbs = get_finger_tip(frame)[0]\n",
    "#             right_index = get_finger_tip(frame)[1]\n",
    "#             right_middle = get_finger_tip(frame)[2]\n",
    "#             right_ring = get_finger_tip(frame)[3]\n",
    "#             right_pinky = get_finger_tip(frame)[4]\n",
    "#             left_thumbs = get_finger_tip(frame)[5]\n",
    "#             left_index = get_finger_tip(frame)[6]\n",
    "#             left_middle = get_finger_tip(frame)[7]\n",
    "#             left_ring = get_finger_tip(frame)[8]\n",
    "#             left_pinky = get_finger_tip(frame)[9]\n",
    "#             x[word_no * data_per_word + data_no, frame_no, 0:3] = right_thumbs\n",
    "#             x[word_no * data_per_word + data_no, frame_no, 3:6] = right_index\n",
    "#             x[word_no * data_per_word + data_no, frame_no, 6:9] = right_middle\n",
    "#             x[word_no * data_per_word + data_no, frame_no, 9:12] = right_ring\n",
    "#             x[word_no * data_per_word + data_no, frame_no, 12:15] = right_pinky\n",
    "#             x[word_no * data_per_word + data_no, frame_no, 15:18] = left_thumbs\n",
    "#             x[word_no * data_per_word + data_no, frame_no, 18:21] = left_index\n",
    "#             x[word_no * data_per_word + data_no, frame_no, 21:24] = left_middle\n",
    "#             x[word_no * data_per_word + data_no, frame_no, 24:27] = left_ring\n",
    "#             x[word_no * data_per_word + data_no, frame_no, 27:30] = left_pinky\n",
    "\n",
    "        y = np.append(y, word_no)"
   ]
  },
  {
   "cell_type": "code",
   "execution_count": 21,
   "metadata": {
    "collapsed": true
   },
   "outputs": [],
   "source": [
    "x_train = np.zeros([data_length * 2 / 3, timesteps, dimensions])\n",
    "y_train = np.zeros([data_length * 2 / 3])\n",
    "x_test = np.zeros([data_length / 3, timesteps, dimensions])\n",
    "y_test = np.zeros([data_length / 3])\n",
    "for idx in range(data_length):\n",
    "    if idx % 3 == 2:\n",
    "        x_test[idx / 3] = x[idx]\n",
    "        y_test[idx / 3] = y[idx]\n",
    "    else:\n",
    "        x_train[idx - idx / 3] = x[idx]\n",
    "        y_train[idx - idx / 3] = y[idx]"
   ]
  },
  {
   "cell_type": "code",
   "execution_count": 22,
   "metadata": {
    "collapsed": true
   },
   "outputs": [],
   "source": [
    "shuffle_train = np.arange(len(x_train))\n",
    "np.random.shuffle(shuffle_train)\n",
    "x_train_shuffle = np.zeros([data_length * 2 / 3, timesteps, dimensions])\n",
    "y_train_shuffle = np.zeros([data_length * 2 / 3])\n",
    "for idx, item in enumerate(shuffle_train):\n",
    "    x_train_shuffle[idx] = x_train[item]\n",
    "    y_train_shuffle[idx] = y_train[item]"
   ]
  },
  {
   "cell_type": "code",
   "execution_count": 23,
   "metadata": {
    "collapsed": true
   },
   "outputs": [],
   "source": [
    "# encoding label\n",
    "Y_train_shuffle = np_utils.to_categorical(y_train_shuffle, len(words))\n",
    "Y_test = np_utils.to_categorical(y_test, len(words))"
   ]
  },
  {
   "cell_type": "code",
   "execution_count": 28,
   "metadata": {
    "collapsed": true
   },
   "outputs": [],
   "source": [
    "fingers = Input(shape=(timesteps, dimensions), name='fingers')\n",
    "fingers_layers = GRU(128)(fingers)\n",
    "fingers_layers = Dense(128, activation='relu')(fingers_layers)\n",
    "fingers_layers = Dense(128, activation='relu')(fingers_layers)\n",
    "output_layer = Dense(len(words), activation='softmax')(fingers_layers)\n",
    "model = Model(inputs=fingers, outputs=output_layer)\n",
    "model.compile(optimizer='adam',\n",
    "              loss='categorical_crossentropy',\n",
    "              metrics=['accuracy'])"
   ]
  },
  {
   "cell_type": "code",
   "execution_count": 29,
   "metadata": {},
   "outputs": [
    {
     "name": "stdout",
     "output_type": "stream",
     "text": [
      "Epoch 1/10\n",
      "342/342 [==============================] - 19s 55ms/step - loss: 2.9463 - acc: 0.0292\n",
      "Epoch 2/10\n",
      "342/342 [==============================] - 18s 51ms/step - loss: 2.9456 - acc: 0.0322\n",
      "Epoch 3/10\n",
      "342/342 [==============================] - 17s 51ms/step - loss: 2.9453 - acc: 0.0263\n",
      "Epoch 4/10\n",
      "342/342 [==============================] - 17s 51ms/step - loss: 2.9450 - acc: 0.0526\n",
      "Epoch 5/10\n",
      "342/342 [==============================] - 18s 51ms/step - loss: 2.9451 - acc: 0.0205\n",
      "Epoch 6/10\n",
      "342/342 [==============================] - 18s 52ms/step - loss: 2.9453 - acc: 0.0322\n",
      "Epoch 7/10\n",
      "342/342 [==============================] - 18s 53ms/step - loss: 2.9450 - acc: 0.0439\n",
      "Epoch 8/10\n",
      "342/342 [==============================] - 19s 55ms/step - loss: 2.9450 - acc: 0.0322\n",
      "Epoch 9/10\n",
      "342/342 [==============================] - 18s 52ms/step - loss: 2.9451 - acc: 0.0351\n",
      "Epoch 10/10\n",
      "342/342 [==============================] - 18s 52ms/step - loss: 2.9449 - acc: 0.0468\n"
     ]
    },
    {
     "data": {
      "text/plain": [
       "<keras.callbacks.History at 0x1824c26dd0>"
      ]
     },
     "execution_count": 29,
     "metadata": {},
     "output_type": "execute_result"
    }
   ],
   "source": [
    "model.fit(x_train_shuffle, Y_train_shuffle, epochs=10, batch_size=8)"
   ]
  },
  {
   "cell_type": "code",
   "execution_count": 30,
   "metadata": {},
   "outputs": [
    {
     "name": "stdout",
     "output_type": "stream",
     "text": [
      "171/171 [==============================] - 1s 7ms/step\n",
      "('Test score:', 2.9444440944850094)\n",
      "('Test accuracy:', 0.05263157894736842)\n"
     ]
    }
   ],
   "source": [
    "score, acc = model.evaluate(x_test, Y_test)\n",
    "print('Test score:', score)\n",
    "print('Test accuracy:', acc)"
   ]
  },
  {
   "cell_type": "code",
   "execution_count": null,
   "metadata": {
    "collapsed": true
   },
   "outputs": [],
   "source": []
  },
  {
   "cell_type": "code",
   "execution_count": null,
   "metadata": {
    "collapsed": true
   },
   "outputs": [],
   "source": []
  },
  {
   "cell_type": "code",
   "execution_count": null,
   "metadata": {
    "collapsed": true
   },
   "outputs": [],
   "source": []
  },
  {
   "cell_type": "code",
   "execution_count": null,
   "metadata": {
    "collapsed": true
   },
   "outputs": [],
   "source": []
  },
  {
   "cell_type": "code",
   "execution_count": null,
   "metadata": {
    "collapsed": true
   },
   "outputs": [],
   "source": []
  },
  {
   "cell_type": "code",
   "execution_count": null,
   "metadata": {
    "collapsed": true
   },
   "outputs": [],
   "source": []
  },
  {
   "cell_type": "code",
   "execution_count": null,
   "metadata": {
    "collapsed": true
   },
   "outputs": [],
   "source": []
  },
  {
   "cell_type": "code",
   "execution_count": 101,
   "metadata": {
    "collapsed": true
   },
   "outputs": [],
   "source": [
    "def build_model(data_length, label_length):\n",
    "    right_thumb_x = Input(shape=(data_length, 1), name='right_thumb_x')\n",
    "    right_thumb_y = Input(shape=(data_length, 1), name='right_thumb_y')\n",
    "    right_thumb_z = Input(shape=(data_length, 1), name='right_thumb_z')\n",
    "    right_index_y = Input(shape=(data_length, 1), name='right_index_y')\n",
    "    right_index_x = Input(shape=(data_length, 1), name='right_index_x')\n",
    "    right_index_z = Input(shape=(data_length, 1), name='right_index_z')\n",
    "    right_middle_x = Input(shape=(data_length, 1), name='right_middle_x')\n",
    "    right_middle_y = Input(shape=(data_length, 1), name='right_middle_y')\n",
    "    right_middle_z = Input(shape=(data_length, 1), name='right_middle_z')\n",
    "    right_ring_x = Input(shape=(data_length, 1), name='right_ring_x')\n",
    "    right_ring_y = Input(shape=(data_length, 1), name='right_ring_y')\n",
    "    right_ring_z = Input(shape=(data_length, 1), name='right_ring_z')\n",
    "    right_pinky_x = Input(shape=(data_length, 1), name='right_pinky_x')\n",
    "    right_pinky_y = Input(shape=(data_length, 1), name='right_pinky_y')\n",
    "    right_pinky_z = Input(shape=(data_length, 1), name='right_pinky_z')\n",
    "    left_thumb_x = Input(shape=(data_length, 1), name='left_thumb_x')\n",
    "    left_thumb_y = Input(shape=(data_length, 1), name='left_thumb_y')\n",
    "    left_thumb_z, = Input(shape=(data_length, 1), name='left_thumb_z')\n",
    "    left_index_x = Input(shape=(data_length, 1), name='left_index_x')\n",
    "    left_index_y = Input(shape=(data_length, 1), name='left_index_y')\n",
    "    left_index_z, = Input(shape=(data_length, 1), name='left_index_z')\n",
    "    left_middle_x = Input(shape=(data_length, 1), name='left_middle_x')\n",
    "    left_middle_y = Input(shape=(data_length, 1), name='left_middle_y')\n",
    "    left_middle_z = Input(shape=(data_length, 1), name='left_middle_z')\n",
    "    left_ring_x = Input(shape=(data_length, 1), name='left_ring_x')\n",
    "    left_ring_y = Input(shape=(data_length, 1), name='left_ring_y')\n",
    "    left_ring_z = Input(shape=(data_length, 1), name='left_ring_z')\n",
    "    left_pinky_x = Input(shape=(data_length, 1), name='left_pinky_x')\n",
    "    left_pinky_y = Input(shape=(data_length, 1), name='left_pinky_y')\n",
    "    left_pinky_z = Input(shape=(data_length, 1), name='left_pinky_z')\n",
    "\n",
    "    right_thumb_x_layers = LSTM(16, return_sequences=False)(right_thumb_x)\n",
    "    right_thumb_y_layers = LSTM(16, return_sequences=False)(right_thumb_y)\n",
    "    right_thumb_z_layers = LSTM(16, return_sequences=False)(right_thumb_z)\n",
    "    right_index_y_layers = LSTM(16, return_sequences=False)(right_index_y)\n",
    "    right_index_x_layers = LSTM(16, return_sequences=False)(right_index_x)\n",
    "    right_index_z_layers = LSTM(16, return_sequences=False)(right_index_z)\n",
    "    right_middle_x_layers = LSTM(16, return_sequences=False)(right_middle_x)\n",
    "    right_middle_y_layers = LSTM(16, return_sequences=False)(right_middle_y)\n",
    "    right_middle_z_layers = LSTM(16, return_sequences=False)(right_middle_z)\n",
    "    right_ring_x_layers = LSTM(16, return_sequences=False)(right_ring_x)\n",
    "    right_ring_y_layers = LSTM(16, return_sequences=False)(right_ring_y)\n",
    "    right_ring_z_layers = LSTM(16, return_sequences=False)(right_ring_z)\n",
    "    right_pinky_x_layers = LSTM(16, return_sequences=False)(right_pinky_x)\n",
    "    right_pinky_y_layers = LSTM(16, return_sequences=False)(right_pinky_y)\n",
    "    right_pinky_z_layers = LSTM(16, return_sequences=False)(right_pinky_z)\n",
    "    left_thumb_x_layers = LSTM(16, return_sequences=False)(left_thumb_x)\n",
    "    left_thumb_y_layers = LSTM(16, return_sequences=False)(left_thumb_y)\n",
    "    left_thumb_z_layers, =LSTM(16, return_sequences=False)(left_thumb_z)\n",
    "    left_index_x_layers = LSTM(16, return_sequences=False)(left_index_x)\n",
    "    left_index_y_layers = LSTM(16, return_sequences=False)(left_index_y)\n",
    "    left_index_z_layers, =LSTM(16, return_sequences=False)(left_index_z)\n",
    "    left_middle_x_layers = LSTM(16, return_sequences=False)(left_middle_x)\n",
    "    left_middle_y_layers = LSTM(16, return_sequences=False)(left_middle_y)\n",
    "    left_middle_z_layers = LSTM(16, return_sequences=False)(left_middle_z)\n",
    "    left_ring_x_layers = LSTM(16, return_sequences=False)(left_ring_x)\n",
    "    left_ring_y_layers = LSTM(16, return_sequences=False)(left_ring_y)\n",
    "    left_ring_z_layers = LSTM(16, return_sequences=False)(left_ring_z)\n",
    "    left_pinky_x_layers = LSTM(16, return_sequences=False)(left_pinky_x)\n",
    "    left_pinky_y_layers = LSTM(16, return_sequences=False)(left_pinky_y)\n",
    "    left_pinky_z_layers = LSTM(16, return_sequences=False)(left_pinky_z)\n",
    "\n",
    "    output = concatenate(\n",
    "        [\n",
    "            right_thumb_x_layers,\n",
    "            right_thumb_y_layers,\n",
    "            right_thumb_z_layers,\n",
    "            right_index_y_layers,\n",
    "            right_index_x_layers,\n",
    "            right_index_z_layers,\n",
    "            right_middle_x_layers,\n",
    "            right_middle_y_layers,\n",
    "            right_middle_z_layers,\n",
    "            right_ring_x_layers,\n",
    "            right_ring_y_layers,\n",
    "            right_ring_z_layers,\n",
    "            right_pinky_x_layers,\n",
    "            right_pinky_y_layers,\n",
    "            right_pinky_z_layers,\n",
    "            left_thumb_x_layers,\n",
    "            left_thumb_y_layers,\n",
    "            left_thumb_z_layers,\n",
    "            left_index_x_layers,\n",
    "            left_index_y_layers,\n",
    "            left_index_z_layers,\n",
    "            left_middle_x_layers,\n",
    "            left_middle_y_layers,\n",
    "            left_middle_z_layers,\n",
    "            left_ring_x_layers,\n",
    "            left_ring_y_layers,\n",
    "            left_ring_z_layers,\n",
    "            left_pinky_x_layers,\n",
    "            left_pinky_y_layers,\n",
    "            left_pinky_z_layers\n",
    "        ]\n",
    "    )\n",
    "\n",
    "    output = Dense(label_length, activation='softmax', name='combine_input')(output)\n",
    "\n",
    "    model = Model(\n",
    "        inputs = [\n",
    "            right_thumb_x,\n",
    "            right_thumb_y,\n",
    "            right_thumb_z,\n",
    "            right_index_y,\n",
    "            right_index_x,\n",
    "            right_index_z,\n",
    "            right_middle_x,\n",
    "            right_middle_y,\n",
    "            right_middle_z,\n",
    "            right_ring_x,\n",
    "            right_ring_y,\n",
    "            right_ring_z,\n",
    "            right_pinky_x,\n",
    "            right_pinky_y,\n",
    "            right_pinky_z,\n",
    "            left_thumb_x,\n",
    "            left_thumb_y,\n",
    "            left_thumb_z,\n",
    "            left_index_x,\n",
    "            left_index_y,\n",
    "            left_index_z,\n",
    "            left_middle_x,\n",
    "            left_middle_y,\n",
    "            left_middle_z,\n",
    "            left_ring_x,\n",
    "            left_ring_y,\n",
    "            left_ring_z,\n",
    "            left_pinky_x,\n",
    "            left_pinky_y,\n",
    "            left_pinky_z\n",
    "        ], \n",
    "        outputs = [\n",
    "            output\n",
    "        ]\n",
    "    )\n",
    "\n",
    "    model.compile(\n",
    "        loss='categorical_crossentropy',\n",
    "        optimizer='sgd',\n",
    "        metrics=['accuracy']\n",
    "    )\n",
    "\n",
    "    return model"
   ]
  },
  {
   "cell_type": "code",
   "execution_count": null,
   "metadata": {
    "collapsed": true
   },
   "outputs": [],
   "source": [
    "rnn = build_model(93, 38)\n",
    "rnn.fit(\n",
    "    [\n",
    "        features['right_thumb_x']\n",
    "        features['right_thumb_y']\n",
    "        features['right_thumb_z']\n",
    "        features['right_index_y']\n",
    "        features['right_index_x']\n",
    "        features['right_index_z']\n",
    "        features['right_middle_x']\n",
    "        features['right_middle_y']\n",
    "        features['right_middle_z']\n",
    "        features['right_ring_x']\n",
    "        features['right_ring_y']\n",
    "        features['right_ring_z']\n",
    "        features['right_pinky_x']\n",
    "        features['right_pinky_y']\n",
    "        features['right_pinky_z']\n",
    "        features['left_thumb_x']\n",
    "        features['left_thumb_y']\n",
    "        features['left_thumb_z']\n",
    "        features['left_index_x']\n",
    "        features['left_index_y']\n",
    "        features['left_index_z']\n",
    "        features['left_middle_x']\n",
    "        features['left_middle_y']\n",
    "        features['left_middle_z']\n",
    "        features['left_ring_x']\n",
    "        features['left_ring_y']\n",
    "        features['left_ring_z']\n",
    "        features['left_pinky_x']\n",
    "        features['left_pinky_y']\n",
    "        features['left_pinky_z']\n",
    "    ],\n",
    "    [\n",
    "        \n",
    "    ]\n",
    ")"
   ]
  }
 ],
 "metadata": {
  "kernelspec": {
   "display_name": "Python 3",
   "language": "python",
   "name": "python3"
  },
  "language_info": {
   "codemirror_mode": {
    "name": "ipython",
    "version": 3
   },
   "file_extension": ".py",
   "mimetype": "text/x-python",
   "name": "python",
   "nbconvert_exporter": "python",
   "pygments_lexer": "ipython3",
   "version": "3.6.2"
  }
 },
 "nbformat": 4,
 "nbformat_minor": 2
}
