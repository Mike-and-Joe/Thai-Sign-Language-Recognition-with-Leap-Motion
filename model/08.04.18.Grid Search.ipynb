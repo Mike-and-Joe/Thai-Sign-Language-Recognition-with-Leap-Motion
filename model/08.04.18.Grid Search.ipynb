{
 "cells": [
  {
   "cell_type": "code",
   "execution_count": 165,
   "metadata": {},
   "outputs": [],
   "source": [
    "from keras.preprocessing import sequence\n",
    "from keras.models import Sequential, Model, load_model\n",
    "from keras.layers import GRU, Dense, Dropout, Input, concatenate\n",
    "from keras.utils import np_utils\n",
    "from keras.optimizers import Adam\n",
    "from copy import deepcopy\n",
    "import json\n",
    "import pandas as pd\n",
    "import pickle\n",
    "import math\n",
    "import datetime\n",
    "import tensorflow as tf"
   ]
  },
  {
   "cell_type": "markdown",
   "metadata": {},
   "source": [
    "## Check GPU on keras and tensorflow-gpu"
   ]
  },
  {
   "cell_type": "code",
   "execution_count": 2,
   "metadata": {},
   "outputs": [
    {
     "name": "stdout",
     "output_type": "stream",
     "text": [
      "b'Hello,TensorFlow!'\n"
     ]
    }
   ],
   "source": [
    "import tensorflow as tf\n",
    "hello=tf.constant('Hello,TensorFlow!')\n",
    "\n",
    "sess=tf.Session(config=tf.ConfigProto(log_device_placement=True))\n",
    "\n",
    "print(sess.run(hello))"
   ]
  },
  {
   "cell_type": "code",
   "execution_count": 103,
   "metadata": {},
   "outputs": [
    {
     "name": "stdout",
     "output_type": "stream",
     "text": [
      "[]\n",
      "[name: \"/cpu:0\"\n",
      "device_type: \"CPU\"\n",
      "memory_limit: 268435456\n",
      "locality {\n",
      "}\n",
      "incarnation: 4195439473557275804\n",
      "]\n"
     ]
    }
   ],
   "source": [
    "from tensorflow.python.client import device_lib\n",
    "from keras import backend as K\n",
    "print(K.tensorflow_backend._get_available_gpus())\n",
    "print(device_lib.list_local_devices())"
   ]
  },
  {
   "cell_type": "markdown",
   "metadata": {},
   "source": [
    "# Preparing data"
   ]
  },
  {
   "cell_type": "code",
   "execution_count": 179,
   "metadata": {
    "collapsed": true
   },
   "outputs": [],
   "source": [
    "# variable\n",
    "words = [\n",
    "    'come quickly', 'emergency', 'father', 'fever', 'good luck',\n",
    "    'headache', 'hello', 'help', 'hi', 'hungry',\n",
    "    'like', 'mother', 'mother_father', 'mother_mother', 'not ok',\n",
    "    'quickly', 'sorry', 'tomorrow', 'yogurt'\n",
    "]\n",
    "data_per_word = 27\n",
    "# data_length = data_per_word * len(words)\n",
    "speedup_max = 1.15\n",
    "timesteps = 50\n",
    "augment_timesteps = math.ceil(timesteps * speedup_max) # add speedup\n",
    "dimensions = 22"
   ]
  },
  {
   "cell_type": "code",
   "execution_count": 180,
   "metadata": {
    "collapsed": true
   },
   "outputs": [],
   "source": [
    "def get_feature(frame):\n",
    "    finger_name = ['thumb', 'index', 'middle', 'ring', 'pinky']\n",
    "    hand_name = ['left', 'right']\n",
    "    \n",
    "    fingertip_pos = np.zeros([2, 5, 3])\n",
    "    \n",
    "    hand_palm_pos = np.zeros([2, 3])\n",
    "    hand_palm_rpy = np.zeros([2, 3])\n",
    "    hand_palm_unit_vector = np.zeros([2, 3])\n",
    "    arm_direction = np.zeros([2, 3])\n",
    "    \n",
    "    feature = np.zeros([22])\n",
    "    \n",
    "    for hand_idx, hand in enumerate(hand_name):\n",
    "        if not hand in frame['hands']:\n",
    "            continue\n",
    "        hand_palm_pos[hand_idx] = np.array(frame['hands'][hand]['hand_palm_position'])\n",
    "        hand_palm_rpy[hand_idx] = np.array([ frame['hands'][hand]['roll'],\n",
    "                                                    frame['hands'][hand]['pitch'],\n",
    "                                                    frame['hands'][hand]['yaw']])\n",
    "        hand_palm_unit_vector[hand_idx] = np.cross(\n",
    "            frame['hands'][hand]['fingers']['index']['bones']['proximal']['direction'],\n",
    "            frame['hands'][hand]['fingers']['middle']['bones']['proximal']['direction']\n",
    "        )\n",
    "        arm_direction[hand_idx] = np.array(frame['hands'][hand]['arm']['direction'])\n",
    "        for finger_idx, finger in enumerate(finger_name):\n",
    "            fingertip_pos[hand_idx, finger_idx] = (\n",
    "                np.array(frame['hands'][hand]['fingers'][finger]['bones']['distal']['next_joint'])\n",
    "            )\n",
    "            \n",
    "    fingertip_pos_shift = np.roll(fingertip_pos, 1, axis=1)\n",
    "    dist_btw_fingertip = np.linalg.norm(fingertip_pos - fingertip_pos_shift, axis=2)\n",
    "        \n",
    "    feature[0:6] = hand_palm_pos.reshape(6)\n",
    "    feature[6:12] = hand_palm_rpy.reshape(6)\n",
    "    feature[12:22] = dist_btw_fingertip.reshape(10)\n",
    "#     feature[22:28] = hand_palm_unit_vector.reshape(6)\n",
    "#     feature[28:34] = arm_direction.reshape(6)\n",
    "    \n",
    "    return feature\n",
    "    "
   ]
  },
  {
   "cell_type": "code",
   "execution_count": 84,
   "metadata": {
    "collapsed": true
   },
   "outputs": [],
   "source": [
    "def get_timesteps(json_data, pick_frame_every_no): \n",
    "    timesteps = np.zeros([0, dimensions])\n",
    "    for frame_no, frame in enumerate(json_data):\n",
    "        if frame_no % pick_frame_every_no != 0 or not frame['hands']:\n",
    "            continue\n",
    "        feature = get_feature(frame)\n",
    "        timesteps = np.vstack((timesteps, feature))\n",
    "    return timesteps"
   ]
  },
  {
   "cell_type": "code",
   "execution_count": null,
   "metadata": {
    "collapsed": true
   },
   "outputs": [],
   "source": [
    "def get_fake_speedup_timesteps_2(percent, old_timesteps, old_pick_frame_every_no):\n",
    "    timesteps = np.zeros([0, dimensions])\n",
    "    pick_frame_every_no = old_pick_frame_every_no*(100+percent)//100\n",
    "    timesteps_length = (old_timesteps.shape[0] * old_pick_frame_every_no) // pick_frame_every_no\n",
    "    \n",
    "    for new_index in range(1, timesteps_length):\n",
    "        start_old_index = (new_index * pick_frame_every_no) // old_pick_frame_every_no\n",
    "        x1 = old_pick_frame_every_no*start_old_index\n",
    "        x2 = old_pick_frame_every_no*(start_old_index + 1)\n",
    "        h1, h2 = old_timesteps[start_old_index : start_old_index + 2]\n",
    "        _x = (new_index * pick_frame_every_no)\n",
    "        \n",
    "        feature = ((_x-x1)/(x2-x1))*(h2-h1) + h1\n",
    "        \n",
    "        timesteps = np.vstack((timesteps, feature))\n",
    "        \n",
    "    return timesteps"
   ]
  },
  {
   "cell_type": "code",
   "execution_count": 85,
   "metadata": {
    "collapsed": true
   },
   "outputs": [],
   "source": [
    "def get_augmentation(percent, old_timesteps, old_pick_frame_every_no):\n",
    "    # percent positive means shrink\n",
    "    timesteps = np.zeros([0, dimensions])\n",
    "    pick_frame_every_no = round(old_pick_frame_every_no*(100+percent)/100)\n",
    "    timesteps_length = (old_timesteps.shape[0] * old_pick_frame_every_no) // pick_frame_every_no\n",
    "    \n",
    "    for new_index in range(1, timesteps_length):\n",
    "        start_old_index = (new_index * pick_frame_every_no) // old_pick_frame_every_no\n",
    "        if (start_old_index + 2 > len(old_timesteps)) : break\n",
    "        x1 = old_pick_frame_every_no*start_old_index\n",
    "        x2 = old_pick_frame_every_no*(start_old_index + 1)\n",
    "        h1, h2 = old_timesteps[start_old_index : start_old_index + 2]\n",
    "        \n",
    "        _x = (new_index * pick_frame_every_no)\n",
    "        \n",
    "        feature = ((_x-x1)/(x2-x1))*(h2-h1) + h1\n",
    "        \n",
    "        timesteps = np.vstack((timesteps, feature))\n",
    "        \n",
    "    return timesteps"
   ]
  },
  {
   "cell_type": "markdown",
   "metadata": {},
   "source": [
    "# Dataset and Data augmentation"
   ]
  },
  {
   "cell_type": "code",
   "execution_count": 88,
   "metadata": {
    "collapsed": true
   },
   "outputs": [],
   "source": [
    "max_frame = 0\n",
    "for word_no, word in enumerate(words):\n",
    "    for data_no in range(data_per_word):\n",
    "        try:\n",
    "            with open(\"./record/{}/json_{}.txt\".format(word, data_no)) as json_data:\n",
    "                json_data = json.load(json_data)\n",
    "        except Exception as s:\n",
    "            print ('error log:', s)\n",
    "        \n",
    "        if max_frame < len(json_data):\n",
    "            max_frame = len(json_data)"
   ]
  },
  {
   "cell_type": "code",
   "execution_count": 89,
   "metadata": {},
   "outputs": [
    {
     "name": "stdout",
     "output_type": "stream",
     "text": [
      "12\n"
     ]
    }
   ],
   "source": [
    "pick_frame_every_no = max_frame // 50 + 1\n",
    "# pick_frame_every_no = int((max_frame * (speedup < 0 and (100-speedup)/100 or 1)) // 50 + 1)\n",
    "print(pick_frame_every_no)"
   ]
  },
  {
   "cell_type": "code",
   "execution_count": 90,
   "metadata": {},
   "outputs": [],
   "source": [
    "x_original = np.zeros([0, timesteps, dimensions])\n",
    "y_original = np.zeros([0])\n",
    "for word_no, word in enumerate(words):\n",
    "    for data_no in range(data_per_word):\n",
    "        try:\n",
    "            with open(\"./record/{}/json_{}.txt\".format(word, data_no)) as json_data:\n",
    "                json_data = json.load(json_data)\n",
    "        except Exception as s:\n",
    "            print ('error log:', s)\n",
    "        \n",
    "        _timesteps = get_timesteps(json_data, pick_frame_every_no)\n",
    "        _timesteps = np.vstack((_timesteps, np.zeros([timesteps - _timesteps.shape[0], dimensions])))\n",
    "        x_original = np.vstack((x_original, [_timesteps]))\n",
    "        y_original = np.append(y_original, word_no)"
   ]
  },
  {
   "cell_type": "code",
   "execution_count": 91,
   "metadata": {
    "collapsed": true
   },
   "outputs": [],
   "source": [
    "x_augment = {}\n",
    "augment_levels = [0.85, 0.90, 1.00, 1.10, 1.15]\n",
    "\n",
    "for level in augment_levels:\n",
    "    temp_augment = np.zeros([0, augment_timesteps, dimensions])\n",
    "    for i in range(x_original.shape[0]):\n",
    "        old_timesteps = x_original[i]\n",
    "        if (level != 1.00) :\n",
    "            _timesteps = get_augmentation(int(100 - level*100), old_timesteps, pick_frame_every_no)\n",
    "        else:\n",
    "            _timesteps = old_timesteps\n",
    "        _timesteps = np.vstack((_timesteps, np.zeros([augment_timesteps - _timesteps.shape[0], dimensions])))\n",
    "        \n",
    "        temp_augment = np.vstack((temp_augment, [_timesteps]))\n",
    "    x_augment[level] = temp_augment"
   ]
  },
  {
   "cell_type": "code",
   "execution_count": 157,
   "metadata": {
    "collapsed": true
   },
   "outputs": [],
   "source": [
    "with open('./extracted_feature/original_100418GridSearch.pkl', 'wb') as file_pi:\n",
    "    pickle.dump([x_original, y_original, x_augment], file_pi)"
   ]
  },
  {
   "cell_type": "markdown",
   "metadata": {},
   "source": [
    "### ** Important Load data here:"
   ]
  },
  {
   "cell_type": "code",
   "execution_count": 45,
   "metadata": {
    "collapsed": true
   },
   "outputs": [],
   "source": [
    "with open('./extracted_feature/original_080418GridSearch.pkl', 'rb') as handle:\n",
    "    [x_original, y_original, x_augment] = pickle.load(handle)"
   ]
  },
  {
   "cell_type": "markdown",
   "metadata": {},
   "source": [
    "# Normalize data"
   ]
  },
  {
   "cell_type": "code",
   "execution_count": 162,
   "metadata": {
    "collapsed": true
   },
   "outputs": [],
   "source": [
    "def get_x_norm(x):\n",
    "    x_std = x.std(axis=(0,1), keepdims=True)\n",
    "    x_mean = x.mean(axis=(0,1), keepdims=True)\n",
    "    x_norm = (x-x_mean)/x_std\n",
    "    return x_norm"
   ]
  },
  {
   "cell_type": "code",
   "execution_count": 195,
   "metadata": {
    "collapsed": true
   },
   "outputs": [],
   "source": [
    "def get_train_and_test(x, y):\n",
    "    x_norm = get_x_norm(x)\n",
    "    data_length = x_norm.shape[0]\n",
    "    x_train = np.zeros([data_length * 2 // 3, augment_timesteps, dimensions])\n",
    "    y_train = np.zeros([data_length * 2 // 3])\n",
    "    x_test = np.zeros([data_length // 3, augment_timesteps, dimensions])\n",
    "    y_test = np.zeros([data_length // 3])\n",
    "    for idx in range(data_length):\n",
    "        if idx % 3 == 2:\n",
    "            x_test[idx // 3] = x_norm[idx]\n",
    "            y_test[idx // 3] = y[idx]\n",
    "        else:\n",
    "            x_train[idx - idx // 3] = x_norm[idx]\n",
    "            y_train[idx - idx // 3] = y[idx]\n",
    "    \n",
    "    # shuffle training set\n",
    "    shuffle_train = np.arange(len(x_train))\n",
    "    np.random.seed(0)\n",
    "    np.random.shuffle(shuffle_train)\n",
    "    x_train_shuffle = np.zeros([data_length * 2 // 3, augment_timesteps, dimensions])\n",
    "    y_train_shuffle = np.zeros([data_length * 2 // 3])\n",
    "    for idx, item in enumerate(shuffle_train):\n",
    "        x_train_shuffle[idx] = x_train[item]\n",
    "        y_train_shuffle[idx] = y_train[item]\n",
    "        \n",
    "    # encoding label\n",
    "    Y_train_shuffle = np_utils.to_categorical(y_train_shuffle, len(words))\n",
    "    Y_test = np_utils.to_categorical(y_test, len(words))\n",
    "        \n",
    "    return [[x_train_shuffle, Y_train_shuffle], [x_test, Y_test]]"
   ]
  },
  {
   "cell_type": "code",
   "execution_count": 76,
   "metadata": {},
   "outputs": [],
   "source": [
    "augmentation = [0.9, 1.0, 1.1]\n",
    "x = np.vstack(([x_augment[n] for n in augmentation]))\n",
    "y = []\n",
    "for i in augmentation:\n",
    "    y = np.append(y, y_original)\n",
    "    \n",
    "\n",
    "[[x_train_shuffle, Y_train_shuffle], [x_test, Y_test]] = get_train_and_test(x, y)"
   ]
  },
  {
   "cell_type": "markdown",
   "metadata": {},
   "source": [
    "# Modeling Method"
   ]
  },
  {
   "cell_type": "code",
   "execution_count": 194,
   "metadata": {
    "collapsed": true
   },
   "outputs": [],
   "source": [
    "def get_model(GRU_size, dense_layer):\n",
    "    fingers = Input(shape=(augment_timesteps, dimensions), name='fingers')\n",
    "    fingers_layers = GRU(GRU_size, activation='tanh', recurrent_activation='hard_sigmoid', dropout=0.2, recurrent_dropout=0.2)(fingers)\n",
    "    for i in range(dense_layer):\n",
    "        fingers_layers = Dense(GRU_size, activation='relu')(fingers_layers)\n",
    "        fingers_layers = Dropout(0.2)(fingers_layers)\n",
    "    output_layer = Dense(len(words), activation='softmax')(fingers_layers)\n",
    "    model = Model(inputs=fingers, outputs=output_layer)\n",
    "    adam = Adam(lr=0.01, decay=0.0005)\n",
    "    model.compile(optimizer=adam,\n",
    "                  loss='categorical_crossentropy',\n",
    "                  metrics=['accuracy'])\n",
    "    return model"
   ]
  },
  {
   "cell_type": "code",
   "execution_count": 349,
   "metadata": {},
   "outputs": [],
   "source": [
    "def grid_search(grid_search_layer, x_augment, y_original, epochs = 1000, note = '', verbose = 1):\n",
    "    model_and_history = {}\n",
    "    file_name = './history/model_and_history_'+ str(datetime.datetime.now().strftime(\"%A, %d. %B %Y %I_%M%p\")+ str(note)) +'.pkl'\n",
    "\n",
    "    for augmentation in grid_search_layer['augmentation']:\n",
    "        model_and_history[str(augmentation)] = {}\n",
    "        x = np.vstack(([x_augment[n] for n in augmentation]))\n",
    "        y = []\n",
    "        for i in augmentation:\n",
    "            y = np.append(y, y_original)\n",
    "        \n",
    "        for GRU in grid_search_layer['GRU']:\n",
    "            model_and_history[str(augmentation)][GRU] = {}\n",
    "            \n",
    "            for dense_layer in grid_search_layer['dense_layer']:\n",
    "                print(augmentation, 'GRU:', GRU, ', dense_layer:',dense_layer)\n",
    "                model = get_model(GRU, dense_layer)\n",
    "                [[x_train_shuffle, Y_train_shuffle], [x_test, Y_test]] = get_train_and_test(x, y)\n",
    "                \n",
    "                np.random.seed(0)\n",
    "                tf.set_random_seed(0)\n",
    "                \n",
    "                history = model.fit(x_train_shuffle, Y_train_shuffle, validation_data=(x_test, Y_test), epochs=epochs, batch_size=8, shuffle=True, verbose=verbose)\n",
    "                \n",
    "                score, acc = model.evaluate(x_test, Y_test)\n",
    "                print('Test score & accuracy:', score, acc)\n",
    "                \n",
    "                model_and_history[str(augmentation)][GRU][dense_layer] = {\n",
    "#                     'model': model,\n",
    "#                     'history': history,\n",
    "                    'score': score,\n",
    "                    'acc': acc\n",
    "                }\n",
    "                \n",
    "                txt = '{}_{}_{}_Note_{}'.format(augmentation, GRU, dense_layer, str(note))\n",
    "                print(txt)\n",
    "                model.save(\"./history/model_grid_search_\"+ txt +\".h5\")\n",
    "                with open('./history/history_'+ txt +'.pkl', 'wb') as file_pi:\n",
    "                    pickle.dump(history.history, file_pi)\n",
    "                    \n",
    "                with open(file_name, 'wb') as file_pi:\n",
    "                    pickle.dump(model_and_history, file_pi)\n",
    "    \n",
    "    return model_and_history, file_name"
   ]
  },
  {
   "cell_type": "markdown",
   "metadata": {},
   "source": [
    "# Start grid searching >////<"
   ]
  },
  {
   "cell_type": "code",
   "execution_count": 293,
   "metadata": {},
   "outputs": [],
   "source": [
    "def get_x_augment_custom():\n",
    "    x_augment_custom = {}\n",
    "    dimensions = 22\n",
    "    for key, pack in x_augment.items():\n",
    "        x_augment_custom[key] = pack[:,:,0:22]\n",
    "    return x_augment_custom"
   ]
  },
  {
   "cell_type": "code",
   "execution_count": 346,
   "metadata": {},
   "outputs": [
    {
     "name": "stdout",
     "output_type": "stream",
     "text": [
      "[0.9, 1.0, 1.1] GRU: 64 , dense_layer: 3\n",
      "513/513 [==============================] - 0s 338us/step\n",
      "Test score & accuracy: 2.94496541739 0.0526315789474\n",
      "[0.9, 1.0, 1.1]_64_3_Note__test_0\n",
      "[0.9, 1.0, 1.1] GRU: 64 , dense_layer: 3\n",
      "513/513 [==============================] - 0s 347us/step\n",
      "Test score & accuracy: 2.94496541739 0.0526315789474\n",
      "[0.9, 1.0, 1.1]_64_3_Note__test_1\n",
      "[0.9, 1.0, 1.1] GRU: 64 , dense_layer: 3\n",
      "513/513 [==============================] - 0s 339us/step\n",
      "Test score & accuracy: 2.94496541739 0.0526315789474\n",
      "[0.9, 1.0, 1.1]_64_3_Note__test_2\n",
      "[0.9, 1.0, 1.1] GRU: 64 , dense_layer: 3\n",
      "513/513 [==============================] - 0s 363us/step\n",
      "Test score & accuracy: 2.94496541739 0.0526315789474\n",
      "[0.9, 1.0, 1.1]_64_3_Note__test_3\n"
     ]
    }
   ],
   "source": [
    "# grid_search_layer = {\n",
    "#     'GRU': [16, 32, 64, 128],\n",
    "#     'dense_layer': [1,2,3],\n",
    "#     'augmentation': [[0.90, 1.00, 1.10], [0.85, 0.90, 1.00, 1.10, 1.15]],\n",
    "# }\n",
    "grid_search_layer = {\n",
    "    'GRU': [64],\n",
    "    'dense_layer': [3],\n",
    "    'augmentation': [[0.90, 1.00, 1.10]],\n",
    "}\n",
    "\n",
    "x_augment_custom = get_x_augment_custom()\n",
    "\n",
    "model_and_history = {}\n",
    "for i in range(4):\n",
    "    note = '_test_' + str(i)\n",
    "    model_and_history[i], model_and_history[str(i) + '_file_name'] = grid_search(grid_search_layer, x_augment_custom, y_original, 1, verbose=0, note = note)\n",
    "    \n",
    "# for i in grid_search_layer['dense_layer']:\n",
    "#     temp = deepcopy(grid_search_layer)\n",
    "#     temp['dense_layer'] = [i]\n",
    "#     print(temp)\n",
    "#     model_and_history[i], model_and_history[str(i) + '_file_name'] = grid_search(temp, x_augment, y_original, 10,'dense_layer=' + i)"
   ]
  },
  {
   "cell_type": "code",
   "execution_count": 153,
   "metadata": {},
   "outputs": [],
   "source": [
    "from pydash import merge\n",
    "from os import listdir\n",
    "from os.path import isfile, join\n",
    "\n",
    "mypath = './history'\n",
    "history_and_model_files = [ './history/' + f for f in listdir(mypath) if isfile(join(mypath, f)) and f.find('model_and_history') > -1]\n",
    "\n",
    "model_and_history = {}\n",
    "file_list = history_and_model_files + [\n",
    "    './history_spec/model_and_history_Tuesday, 10. April 2018 03_33AM64.pkl',\n",
    "    './history_spec/model_and_history_Tuesday, 10. April 2018 03_56AM.pkl',\n",
    "    './history_spec/model_and_history_Tuesday, 10. April 2018 05_04AM64_old_feature.pkl',\n",
    "    './history_spec/model_and_history_Tuesday, 10. April 2018 05_25AM.pkl'\n",
    "]\n",
    "\n",
    "for file_name in file_list:\n",
    "    with open(file_name, 'rb') as handle:\n",
    "        model_and_history = merge(model_and_history, pickle.load(handle))\n",
    "        \n",
    "# print(model_and_history)"
   ]
  },
  {
   "cell_type": "code",
   "execution_count": 154,
   "metadata": {},
   "outputs": [
    {
     "name": "stdout",
     "output_type": "stream",
     "text": [
      "0.74269005848 [0.9, 1.0, 1.1] 128 1\n",
      "0.424951267057 [0.9, 1.0, 1.1] 128 2\n",
      "0.573099415205 [0.9, 1.0, 1.1] 128 3\n",
      "0.797270955166 [0.9, 1.0, 1.1] 32 1\n",
      "0.748538011696 [0.9, 1.0, 1.1] 32 2\n",
      "0.732943469786 [0.9, 1.0, 1.1] 32 3\n",
      "0.612085769981 [0.9, 1.0, 1.1] 16 1\n",
      "0.635477582846 [0.9, 1.0, 1.1] 16 2\n",
      "0.387914230019 [0.9, 1.0, 1.1] 16 3\n",
      "0.808966861598 [0.9, 1.0, 1.1] 64 1\n",
      "0.820662768031 [0.9, 1.0, 1.1] 64 2\n",
      "0.805068226121 [0.9, 1.0, 1.1] 64 3\n",
      "0.831578947647 [0.85, 0.9, 1.0, 1.1, 1.15] 128 1\n",
      "0.59064327447 [0.85, 0.9, 1.0, 1.1, 1.15] 128 2\n",
      "0.690058478835 [0.85, 0.9, 1.0, 1.1, 1.15] 128 3\n",
      "0.771929824073 [0.85, 0.9, 1.0, 1.1, 1.15] 64 1\n",
      "0.781286548941 [0.85, 0.9, 1.0, 1.1, 1.15] 64 2\n",
      "0.818713449526 [0.85, 0.9, 1.0, 1.1, 1.15] 64 3\n",
      "0.794152046296 [0.85, 0.9, 1.0, 1.1, 1.15] 32 1\n",
      "0.743859648914 [0.85, 0.9, 1.0, 1.1, 1.15] 32 2\n",
      "0.712280700988 [0.85, 0.9, 1.0, 1.1, 1.15] 32 3\n",
      "0.686549707393 [0.85, 0.9, 1.0, 1.1, 1.15] 16 1\n",
      "0.631578947717 [0.85, 0.9, 1.0, 1.1, 1.15] 16 2\n",
      "0.438596491402 [0.85, 0.9, 1.0, 1.1, 1.15] 16 3\n",
      "0.56725146164 [0.9, 1.0] 64 3\n",
      "0.760233918826 [1.0, 1.1] 64 3\n",
      "best acc: 0.831578947647 , at: {'augmentation': '[0.85, 0.9, 1.0, 1.1, 1.15]', 'GRU': 128, 'dense_layer': 1}\n"
     ]
    }
   ],
   "source": [
    "best_acc_idx = {\n",
    "    'augmentation': None,\n",
    "    'GRU': None,\n",
    "    'dense_layer': None\n",
    "}\n",
    "\n",
    "best_acc = 0\n",
    "for augmentation, pack1 in model_and_history.items():\n",
    "    for GRU, pack2 in pack1.items():\n",
    "        for dense_layer, pack3 in pack2.items():\n",
    "            print(pack3['acc'], augmentation, GRU, dense_layer)\n",
    "            if pack3['acc'] > best_acc:\n",
    "                best_acc = pack3['acc']\n",
    "                best_acc_idx['augmentation'] = augmentation\n",
    "                best_acc_idx['GRU'] = GRU\n",
    "                best_acc_idx['dense_layer'] = dense_layer\n",
    "                \n",
    "print('best acc:',best_acc, ', at:', best_acc_idx)"
   ]
  },
  {
   "cell_type": "code",
   "execution_count": 323,
   "metadata": {},
   "outputs": [],
   "source": [
    "interested_model = model_and_history[2]['[0.90, 1.00, 1.10]'][64][3]['model']"
   ]
  },
  {
   "cell_type": "code",
   "execution_count": 324,
   "metadata": {},
   "outputs": [
    {
     "data": {
      "text/plain": [
       "<keras.engine.training.Model at 0x1ba08d47f98>"
      ]
     },
     "execution_count": 324,
     "metadata": {},
     "output_type": "execute_result"
    }
   ],
   "source": [
    "interested_model"
   ]
  },
  {
   "cell_type": "markdown",
   "metadata": {},
   "source": [
    "# Continue train model"
   ]
  },
  {
   "cell_type": "code",
   "execution_count": 305,
   "metadata": {
    "collapsed": true
   },
   "outputs": [],
   "source": [
    "def continue_train_model(model, x_augment, y_original, augmentation, epochs = 1000, verbose = 1):\n",
    "    x = np.vstack(([x_augment[n] for n in augmentation]))\n",
    "    y = []\n",
    "    for i in augmentation:\n",
    "        y = np.append(y, y_original)\n",
    "        \n",
    "    [[x_train_shuffle, Y_train_shuffle], [x_test, Y_test]] = get_train_and_test(x, y)\n",
    "\n",
    "    np.random.seed(0)\n",
    "    tf.set_random_seed(0)\n",
    "\n",
    "    history = model.fit(x_train_shuffle, Y_train_shuffle, validation_data=(x_test, Y_test), epochs=epochs, batch_size=8, shuffle=True, verbose=verbose)\n",
    "    \n",
    "    return model, history"
   ]
  },
  {
   "cell_type": "code",
   "execution_count": 350,
   "metadata": {},
   "outputs": [
    {
     "name": "stdout",
     "output_type": "stream",
     "text": [
      "Train on 1026 samples, validate on 513 samples\n",
      "Epoch 1/1\n",
      "1026/1026 [==============================] - 8s 8ms/step - loss: 2.9716 - acc: 0.0429 - val_loss: 2.9688 - val_acc: 0.0507\n"
     ]
    }
   ],
   "source": [
    "interested_model = load_model(\"./history/model_grid_search_[0.9, 1.0, 1.1]_64_3_Note__test_3.h5\")\n",
    "\n",
    "x_augment_custom = get_x_augment_custom()\n",
    "\n",
    "model, history = continue_train_model(interested_model, x_augment_custom, y_original, [0.90, 1.00, 1.10], 1)\n",
    "\n",
    "txt = str(datetime.datetime.now().strftime(\"%A, %d. %B %Y %I_%M%p\")) + '_' + 'test'\n",
    "model.save(\"./interested_model/model_\"+ txt +\".h5\")\n",
    "with open('./interested_model/history_'+ txt +'.pkl', 'wb') as file_pi:\n",
    "    pickle.dump(history.history, file_pi)"
   ]
  },
  {
   "cell_type": "markdown",
   "metadata": {},
   "source": [
    "## Editing old stuffs"
   ]
  },
  {
   "cell_type": "code",
   "execution_count": 125,
   "metadata": {},
   "outputs": [],
   "source": [
    "file_name = '[0.9, 1.0, 1.1]_64_3_Note_64_08042018'\n",
    "\n",
    "try:\n",
    "    f = h5py.File('./history/model_grid_search_'+ file_name +'.h5', 'r+')\n",
    "    del f['optimizer_weights']\n",
    "    f.close()\n",
    "except:\n",
    "    None\n",
    "\n",
    "model = load_model(\"./history/model_grid_search_\"+ file_name +\".h5\")\n",
    "with open('./history/history'+ file_name +'.pkl', 'rb') as handle:\n",
    "    history = pickle.load(handle)"
   ]
  },
  {
   "cell_type": "code",
   "execution_count": 115,
   "metadata": {},
   "outputs": [
    {
     "name": "stdout",
     "output_type": "stream",
     "text": [
      "513/513 [==============================] - 2s 3ms/step\n",
      "Test score: 1.11924052857\n",
      "Test accuracy: 0.805068226121\n"
     ]
    }
   ],
   "source": [
    "score, acc = model.evaluate(x_test, Y_test)\n",
    "print('Test score:', score)\n",
    "print('Test accuracy:', acc)"
   ]
  },
  {
   "cell_type": "code",
   "execution_count": 291,
   "metadata": {},
   "outputs": [
    {
     "name": "stdout",
     "output_type": "stream",
     "text": [
      "dict_keys(['val_acc', 'loss', 'val_loss', 'acc'])\n"
     ]
    },
    {
     "data": {
      "image/png": "[encoded data removed]",
      "text/plain": [
       "<matplotlib.figure.Figure at 0x1b9f76f3dd8>"
      ]
     },
     "metadata": {},
     "output_type": "display_data"
    },
    {
     "data": {
      "image/png": "[encoded data removed]",
      "text/plain": [
       "<matplotlib.figure.Figure at 0x1b9f7f87710>"
      ]
     },
     "metadata": {},
     "output_type": "display_data"
    }
   ],
   "source": [
    "import matplotlib.pyplot as plt\n",
    "history_talbe = 'history' in history and history.history or history\n",
    "# list all data in history\n",
    "print(history.keys())\n",
    "# summarize history for accuracy\n",
    "plt.plot(history['acc'])\n",
    "plt.plot(history['val_acc'])\n",
    "plt.title('model accuracy')\n",
    "plt.ylabel('accuracy')\n",
    "plt.xlabel('epoch')\n",
    "plt.legend(['train', 'test'], loc='upper left')\n",
    "plt.show()\n",
    "# summarize history for loss\n",
    "plt.plot(history['loss'])\n",
    "plt.plot(history['val_loss'])\n",
    "plt.title('model loss')\n",
    "plt.ylabel('loss')\n",
    "plt.xlabel('epoch')\n",
    "plt.legend(['train', 'test'], loc='upper left')\n",
    "plt.show()"
   ]
  },
  {
   "cell_type": "code",
   "execution_count": null,
   "metadata": {
    "collapsed": true
   },
   "outputs": [],
   "source": []
  },
  {
   "cell_type": "markdown",
   "metadata": {},
   "source": [
    "## Prediction section"
   ]
  },
  {
   "cell_type": "code",
   "execution_count": 109,
   "metadata": {
    "collapsed": true
   },
   "outputs": [],
   "source": [
    "def generate_confusion_matrix(prediction, y_actual, words):\n",
    "    confusion_matrix = np.zeros([len(words), len(words)])\n",
    "    prediction_word_index = np.argmax(prediction, axis = 1)\n",
    "\n",
    "    for idx in range(len(prediction_word_index)):\n",
    "        actual = y_actual[idx]\n",
    "        result = prediction_word_index[idx]\n",
    "        confusion_matrix[int(actual)][result] += 1\n",
    "        \n",
    "    return confusion_matrix"
   ]
  },
  {
   "cell_type": "code",
   "execution_count": 119,
   "metadata": {
    "collapsed": true
   },
   "outputs": [],
   "source": [
    "def cal_acc(confusion_matrix, words, test_data_per_word):\n",
    "    test_acc = 0\n",
    "\n",
    "    for idx in range(len(words)):\n",
    "        test_acc += confusion_matrix[idx][idx]\n",
    "    test_acc /= (test_data_per_word * len(words))\n",
    "\n",
    "    return test_acc\n"
   ]
  },
  {
   "cell_type": "code",
   "execution_count": 112,
   "metadata": {
    "collapsed": true
   },
   "outputs": [],
   "source": [
    "def cal_acc(confusion_matrix, words, test_data_per_word):\n",
    "    test_acc = 0\n",
    "\n",
    "    for idx in range(len(words)):\n",
    "        test_acc += confusion_matrix[idx][idx]\n",
    "    test_acc /= (test_data_per_word * len(words))\n",
    "\n",
    "    return test_acc\n"
   ]
  },
  {
   "cell_type": "code",
   "execution_count": 104,
   "metadata": {
    "collapsed": true
   },
   "outputs": [],
   "source": [
    "def plot_confusion_matrix(confusion_matrix, label_x, label_y):\n",
    "    import seaborn as sn\n",
    "    import pandas as pd\n",
    "    import matplotlib.pyplot as plt\n",
    "    %matplotlib inline\n",
    "\n",
    "    df_cm = pd.DataFrame(confusion_matrix, label_x, label_y)\n",
    "    plt.figure(figsize = (15,12))\n",
    "    sn.set(font_scale=1.4)#for label size\n",
    "    sn.heatmap(df_cm, cmap=\"Blues\", annot=True, annot_kws={\"size\": 16})# font size"
   ]
  },
  {
   "cell_type": "code",
   "execution_count": 105,
   "metadata": {
    "collapsed": true
   },
   "outputs": [],
   "source": [
    "def predict_and_plot(x_test, y_test, words, test_data_per_word):\n",
    "    prediction = model.predict(x_test, verbose = 1)\n",
    "    confusion_matrix = generate_confusion_matrix(prediction, y_test, words)\n",
    "    print('acc: ', cal_acc(confusion_matrix, words, test_data_per_word))\n",
    "    plot_confusion_matrix(confusion_matrix, words, words)"
   ]
  },
  {
   "cell_type": "markdown",
   "metadata": {},
   "source": [
    "### Predict Test dataset and plot"
   ]
  },
  {
   "cell_type": "code",
   "execution_count": 106,
   "metadata": {},
   "outputs": [
    {
     "ename": "NameError",
     "evalue": "name 'y_test' is not defined",
     "output_type": "error",
     "traceback": [
      "\u001b[1;31m---------------------------------------------------------------------------\u001b[0m",
      "\u001b[1;31mNameError\u001b[0m                                 Traceback (most recent call last)",
      "\u001b[1;32m<ipython-input-106-f623df499777>\u001b[0m in \u001b[0;36m<module>\u001b[1;34m()\u001b[0m\n\u001b[1;32m----> 1\u001b[1;33m \u001b[0mpredict_and_plot\u001b[0m\u001b[1;33m(\u001b[0m\u001b[0mx_test\u001b[0m\u001b[1;33m,\u001b[0m \u001b[0my_test\u001b[0m\u001b[1;33m,\u001b[0m \u001b[0mwords\u001b[0m\u001b[1;33m,\u001b[0m \u001b[0mtest_data_per_word\u001b[0m \u001b[1;33m=\u001b[0m \u001b[1;36m18\u001b[0m\u001b[1;33m)\u001b[0m\u001b[1;33m\u001b[0m\u001b[0m\n\u001b[0m",
      "\u001b[1;31mNameError\u001b[0m: name 'y_test' is not defined"
     ]
    }
   ],
   "source": [
    "predict_and_plot(x_test, y_test, words, test_data_per_word = 18)"
   ]
  },
  {
   "cell_type": "markdown",
   "metadata": {},
   "source": [
    "### Predict new test set from ./record_test"
   ]
  },
  {
   "cell_type": "code",
   "execution_count": 126,
   "metadata": {},
   "outputs": [
    {
     "name": "stdout",
     "output_type": "stream",
     "text": [
      "190/190 [==============================] - 0s 216us/step\n",
      "acc:  0.736842105263\n"
     ]
    },
    {
     "data": {
      "image/png": "[encoded data removed]",
      "text/plain": [
       "<matplotlib.figure.Figure at 0x1824cceb748>"
      ]
     },
     "metadata": {},
     "output_type": "display_data"
    }
   ],
   "source": [
    "x_predict = np.zeros([0, timesteps, dimensions])\n",
    "y_actual = np.zeros([0])\n",
    "\n",
    "test_data_per_word = 10\n",
    "\n",
    "for word_no, word in enumerate(words):\n",
    "    for data_no in range(test_data_per_word):\n",
    "        try:\n",
    "            with open(\"./record_test/{}/json_{}.txt\".format(word, data_no)) as json_data:\n",
    "                json_data = json.load(json_data)\n",
    "        except Exception as s:\n",
    "            print ('error log:', s)\n",
    "\n",
    "        _timesteps = get_timesteps(json_data, pick_frame_every_no)\n",
    "        _timesteps = np.vstack((_timesteps, np.zeros([timesteps - _timesteps.shape[0], dimensions])))\n",
    "        x_predict = np.vstack((x_predict, [_timesteps]))\n",
    "        y_actual = np.append(y_actual, word_no)\n",
    "        \n",
    "x_predict_norm = (x_predict-x_mean)/x_std\n",
    "    \n",
    "predict_and_plot(x_test = x_predict_norm, y_test = y_actual, words = words, test_data_per_word = 10)"
   ]
  },
  {
   "cell_type": "code",
   "execution_count": null,
   "metadata": {
    "collapsed": true
   },
   "outputs": [],
   "source": []
  }
 ],
 "metadata": {
  "kernelspec": {
   "display_name": "Python 3",
   "language": "python",
   "name": "python3"
  },
  "language_info": {
   "codemirror_mode": {
    "name": "ipython",
    "version": 3
   },
   "file_extension": ".py",
   "mimetype": "text/x-python",
   "name": "python",
   "nbconvert_exporter": "python",
   "pygments_lexer": "ipython3",
   "version": "3.6.3"
  }
 },
 "nbformat": 4,
 "nbformat_minor": 2
}
