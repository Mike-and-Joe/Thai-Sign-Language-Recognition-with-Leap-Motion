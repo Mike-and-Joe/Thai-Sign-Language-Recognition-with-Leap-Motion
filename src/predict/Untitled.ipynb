{
 "cells": [
  {
   "cell_type": "code",
   "execution_count": 1,
   "metadata": {
    "collapsed": true
   },
   "outputs": [],
   "source": [
    "import matplotlib.pyplot as plt \n",
    "import numpy as np\n",
    "import sys\n",
    "sys.path.append('..')\n",
    "import utils\n",
    "import features\n",
    "import knn"
   ]
  },
  {
   "cell_type": "code",
   "execution_count": 2,
   "metadata": {
    "collapsed": true
   },
   "outputs": [],
   "source": [
    "records_name = [\"one\", \"two\", \"three\", \"four\", \"five\", \"six\", \"seven\", \"eight\", \"nine\", \"ten\"]\n",
    "dim_amount = 5 * 5\n",
    "train_tip_dist = np.zeros([dim_amount,0])\n",
    "test_tip_dist = np.zeros([dim_amount,0])\n",
    "training_data_amount = 4\n",
    "maximum_data_amount = 14"
   ]
  },
  {
   "cell_type": "code",
   "execution_count": 3,
   "metadata": {
    "scrolled": true
   },
   "outputs": [],
   "source": [
    "for record_name in records_name:\n",
    "    data_amount = utils.get_last_index_from_folder('../record/{0}'.format(record_name)) + 1    \n",
    "\n",
    "    tip_distance = features.get_feature_tip_distance(record_name, data_amount)\n",
    "    \n",
    "    for i in range(tip_distance.shape[1]):\n",
    "        if i < training_data_amount:\n",
    "            train_tip_dist = np.append(train_tip_dist, tip_distance[:, i].reshape(dim_amount, 1), axis = 1)\n",
    "        elif i < maximum_data_amount:\n",
    "            test_tip_dist = np.append(test_tip_dist, tip_distance[:, i].reshape(dim_amount, 1), axis = 1)"
   ]
  },
  {
   "cell_type": "code",
   "execution_count": 4,
   "metadata": {
    "scrolled": false
   },
   "outputs": [
    {
     "data": {
      "image/png": "[encoded data removed]",
      "text/plain": [
       "<matplotlib.figure.Figure at 0x45f2828>"
      ]
     },
     "metadata": {},
     "output_type": "display_data"
    }
   ],
   "source": [
    "#attached\n",
    "sim_mat = knn.create_similarity_matrix(train_tip_dist, test_tip_dist)\n",
    "\n",
    "plt.imshow(sim_mat,cmap=\"gray\") \n",
    "plt.show() "
   ]
  },
  {
   "cell_type": "code",
   "execution_count": 4,
   "metadata": {},
   "outputs": [
    {
     "data": {
      "image/png": "[encoded data removed]",
      "text/plain": [
       "<matplotlib.figure.Figure at 0x73abfd0>"
      ]
     },
     "metadata": {},
     "output_type": "display_data"
    }
   ],
   "source": [
    "#on desk\n",
    "sim_mat = knn.create_similarity_matrix(train_tip_dist, test_tip_dist)\n",
    "\n",
    "plt.imshow(sim_mat,cmap=\"gray\") \n",
    "plt.show() "
   ]
  },
  {
   "cell_type": "code",
   "execution_count": 10,
   "metadata": {},
   "outputs": [
    {
     "name": "stdout",
     "output_type": "stream",
     "text": [
      "1\n",
      "[[  73.55315448   88.05780992   84.88011667]\n",
      " [ 100.86573642  115.06837145  108.22532389]\n",
      " [  19.62475272   25.6277414    17.67561306]\n",
      " [  16.89539866   17.4748099    16.33451514]\n",
      " [  51.0049081    50.4682042    65.20873846]]\n",
      "2\n",
      "[[ 95.47409702  97.47274133  93.74317768]\n",
      " [ 45.58097198  44.31670651  46.7182282 ]\n",
      " [ 86.38279832  90.00851401  98.94497342]\n",
      " [ 18.45593728  22.26768392  17.27846985]\n",
      " [ 28.40919555  22.1997929   36.76496093]]\n",
      "3\n",
      "[[ 116.68773234  119.336014    125.72690096]\n",
      " [  40.51363251   38.785587     41.60065131]\n",
      " [ 100.95807293   98.91354513  102.30543111]\n",
      " [  34.8506217    38.39472124   32.50782416]\n",
      " [ 123.55447798  125.47598698  131.39603514]]\n",
      "4\n",
      "[[  86.70993012   93.14783339   95.07789096]\n",
      " [  44.21868307   42.74620548   37.66222153]\n",
      " [  42.95055939   44.12380898   45.29254648]\n",
      " [  46.95758393   45.32996226   47.03846588]\n",
      " [ 110.18066621   93.75416356   90.0664614 ]]\n",
      "5\n",
      "[[  84.60633542   79.14915137   81.89439171]\n",
      " [  31.70356597   33.23498442   33.87368035]\n",
      " [  29.75756975   30.94980083   31.74327289]\n",
      " [  36.40742204   35.68283397   35.59007561]\n",
      " [ 137.22231061  134.85313705  137.93580045]]\n",
      "6\n",
      "[[ 112.65151807  105.78207753  111.12980642]\n",
      " [  42.06121436   42.10536741   40.98376146]\n",
      " [  32.27746998   31.85355152   34.03703234]\n",
      " [  90.249764     93.38061356   88.2717809 ]\n",
      " [  14.82049759   15.12543992    9.65155299]]\n",
      "7\n",
      "[[ 104.50416141  102.88261506  107.01221665]\n",
      " [  45.66040046   46.42727244   48.96937442]\n",
      " [  93.00648116   84.01411895   82.95291505]\n",
      " [  45.61794936   49.02149926   50.28370075]\n",
      " [  39.16974265   47.81468135   49.5235076 ]]\n",
      "8\n",
      "[[ 85.47475849  91.50854601  97.93040692]\n",
      " [ 49.98991345  62.79092364  88.88792599]\n",
      " [ 43.33258289  40.17102642  58.82253073]\n",
      " [ 48.6855421   64.17185888  57.91812582]\n",
      " [ 70.86941457  86.70369755  85.97600984]]\n",
      "9\n",
      "[[   7.59826849    3.60645961    3.76863414]\n",
      " [  80.1921357    79.37276659   79.47679224]\n",
      " [  34.76113919   32.3428931    32.20662798]\n",
      " [  38.42683296   36.87545671   36.72157848]\n",
      " [ 101.72178566   95.26510456   93.52752871]]\n",
      "10\n",
      "[[ 34.48728096  34.82199413  34.38784633]\n",
      " [ 15.46682784  16.33579645  16.39850933]\n",
      " [ 14.59145192  18.52693204  18.56432858]\n",
      " [ 18.49177108  15.49523493  15.47566937]\n",
      " [ 64.13594681  63.82051278  63.36631486]]\n"
     ]
    }
   ],
   "source": [
    "for i in range(10):\n",
    "    print(i+1)\n",
    "    print(train_tip_dist[:, i*3:(i*3)+3])"
   ]
  },
  {
   "cell_type": "code",
   "execution_count": 23,
   "metadata": {},
   "outputs": [
    {
     "name": "stdout",
     "output_type": "stream",
     "text": [
      "1\n",
      "[[  90.48093416   89.53822754   81.80168777   85.48797506   86.17135635\n",
      "    85.16881143   80.68079241]\n",
      " [ 115.30455778  117.06691512  112.63884321  110.63603568  112.65014573\n",
      "   104.90426934  105.89815895]\n",
      " [  19.12907671   19.09917902   19.22339973   21.86959466   18.75476463\n",
      "    23.61126331   23.11400896]\n",
      " [  16.94293247   16.5154907    16.40590779   16.2653443    16.3865454\n",
      "    17.03392675   16.08292641]\n",
      " [  48.39431777   58.10035764   58.6272897    47.48539117   53.64316603\n",
      "    40.06339744   44.52067081]]\n",
      "2\n",
      "[[ 97.59570583  97.15711022  99.86568136  99.68111498  97.65784013\n",
      "   97.85476621  98.20623979]\n",
      " [ 45.95001262  47.81750333  48.33608776  49.31402588  47.38633754\n",
      "   46.76987765  46.92424642]\n",
      " [ 96.03179629  85.64731193  85.99245416  84.49340197  84.60197551\n",
      "   91.02742369  88.91102428]\n",
      " [ 17.84616852  19.07527272  18.61206033  19.94102739  20.98222419\n",
      "   21.98623134  21.32155053]\n",
      " [ 29.41014836  25.60141591  24.3520566   25.51682404  24.18689587\n",
      "   25.98954465  27.64469549]]\n",
      "3\n",
      "[[ 122.62597513  123.9445854   116.25214406  115.58198025  115.11288083\n",
      "   112.42107659  110.7181497 ]\n",
      " [  39.4967461    42.13482595   38.00610006   38.36400108   38.53784995\n",
      "    38.80629275   38.00880936]\n",
      " [  99.59142172  104.5117482    95.69779839  101.24120485   96.39077898\n",
      "   111.59475904  110.44537094]\n",
      " [  27.16615887   29.67391829   39.83448436   35.2888658    42.28954842\n",
      "    26.11740773   30.69088462]\n",
      " [ 128.40232296  129.47746562  120.93795959  121.41458615  121.49071744\n",
      "   119.47849574  119.27757475]]\n",
      "4\n",
      "[[ 89.7535222   88.6141207   89.60786125  89.36100221  89.11123358\n",
      "   89.7351765   91.64175569]\n",
      " [ 32.49124171  32.74545141  33.41467466  33.53697025  33.59239823\n",
      "   33.1743787   33.75032611]\n",
      " [ 37.44550126  36.43373351  35.13047181  34.83403409  34.87489642\n",
      "   35.28371383  37.17521613]\n",
      " [ 45.82201207  46.13339896  38.98743298  40.33048933  41.20064093\n",
      "   37.97779296  37.28906503]\n",
      " [ 96.92140448  93.86260307  84.66710105  81.94908157  86.89158773\n",
      "   79.22270454  79.99959175]]\n",
      "5\n",
      "[[  77.78006942   80.48141625   80.1798898    85.15687393   82.46762808\n",
      "    84.56716784   84.71934768]\n",
      " [  31.97892867   33.26440296   32.63723446   33.34166147   34.07858983\n",
      "    32.65677713   31.6252147 ]\n",
      " [  32.68441822   32.10036018   32.89789376   31.86388926   33.96392026\n",
      "    33.11987946   32.18360271]\n",
      " [  37.15633483   36.5247832    37.60558787   37.3002721    37.75304701\n",
      "    38.56555209   38.35236474]\n",
      " [ 138.98036945  140.10303436  142.24462611  145.18432182  144.36390504\n",
      "   146.17980795  145.24989316]]\n",
      "6\n",
      "[[ 110.15813345  109.70672423  103.19429352  101.94974888  101.12896831\n",
      "   100.84336189   98.91061812]\n",
      " [  39.25517459   42.27691116   41.67136732   42.51781151   42.34299623\n",
      "    41.386536     41.10419246]\n",
      " [  33.09355117   32.15164833   31.34025673   31.80462142   31.07922375\n",
      "    30.26061641   30.63910027]\n",
      " [  90.15435047   90.12319405   87.47969894   93.52838099   92.80804214\n",
      "    90.33756714   94.22396821]\n",
      " [   6.31593712    6.56566399    7.79124345   15.53840205   15.64273928\n",
      "    12.66062356   17.91015007]]\n",
      "7\n",
      "[[ 105.77300629  110.03166982  109.92200619  107.49171296  108.06373818\n",
      "   107.34360058  109.92200619]\n",
      " [  49.19280776   47.32858044   46.29334073   45.32766056   42.86438142\n",
      "    42.6450268    46.29334073]\n",
      " [  74.54326568   88.33147616   92.36484583   88.72317364   96.24675831\n",
      "    98.56462735   92.36484583]\n",
      " [  58.56723169   50.86672257   49.62836001   47.81850244   58.85611583\n",
      "    68.42838504   49.62836001]\n",
      " [  58.41005056   47.09984572   42.50662218   42.74939786   54.28899441\n",
      "    62.15731901   42.50662218]]\n",
      "8\n",
      "[[  97.43732746   97.11400294   97.90976767   98.45264702   94.00155859\n",
      "    96.67037105   99.08518878]\n",
      " [  90.50236084   93.76246276  101.18707042   94.14224701   89.78947875\n",
      "    92.66795758   95.3781601 ]\n",
      " [  46.36046802   47.14048642   60.45583847   53.41965642   40.82083557\n",
      "    51.18907186   61.41754185]\n",
      " [  60.45689543   61.96759657   58.33712224   62.59981321   67.78168559\n",
      "    63.40201822   58.21797777]\n",
      " [  85.21761437   87.04535358   88.38582405   94.2347194    95.01306913\n",
      "    93.64802655   91.10930535]]\n",
      "9\n",
      "[[  5.19754348   6.42708689   6.10107316   5.02735226   4.99640487\n",
      "    7.76995588   6.81182407]\n",
      " [ 80.48142791  79.11489146  79.89788394  79.73263876  82.08043493\n",
      "   87.13930432  84.28435032]\n",
      " [ 33.40104443  32.38097996  32.08474454  32.25916828  32.53517072\n",
      "   34.54080771  33.01884128]\n",
      " [ 37.53451071  36.60167494  36.33182616  36.31410549  36.73156468\n",
      "   37.68546523  37.03938741]\n",
      " [ 94.96119805  92.84366945  92.34981316  93.33618617  93.81095714\n",
      "   96.02693331  93.84428649]]\n",
      "10\n",
      "[[ 34.21862964  36.43534944  38.43414412  38.75330596  36.01681056\n",
      "   36.42347816  33.28885788]\n",
      " [ 15.67131988  15.51168524  15.58760755  15.45274657  16.01483303\n",
      "   15.92038168  15.50583221]\n",
      " [ 14.56182563  14.60900608  14.68746159  14.83353549  18.39290692\n",
      "   18.34376005  18.00048742]\n",
      " [ 18.61009062  18.35599717  18.30741882  18.1485681   15.42805792\n",
      "   15.43282348  15.47067978]\n",
      " [ 63.24400753  68.97677879  72.90942642  73.85182248  66.21676977\n",
      "   66.91072543  63.41549876]]\n"
     ]
    }
   ],
   "source": [
    "for i in range(10):\n",
    "    print(i+1)\n",
    "    print(test_tip_dist[:, i*7:(i*7)+7])"
   ]
  },
  {
   "cell_type": "code",
   "execution_count": null,
   "metadata": {
    "collapsed": true
   },
   "outputs": [],
   "source": []
  }
 ],
 "metadata": {
  "kernelspec": {
   "display_name": "Python 2",
   "language": "python",
   "name": "python2"
  },
  "language_info": {
   "codemirror_mode": {
    "name": "ipython",
    "version": 2
   },
   "file_extension": ".py",
   "mimetype": "text/x-python",
   "name": "python",
   "nbconvert_exporter": "python",
   "pygments_lexer": "ipython2",
   "version": "2.7.13"
  }
 },
 "nbformat": 4,
 "nbformat_minor": 2
}
